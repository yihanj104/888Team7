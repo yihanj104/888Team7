{
  "nbformat": 4,
  "nbformat_minor": 0,
  "metadata": {
    "colab": {
      "name": "Final Copy of Data Merging & Modeling",
      "provenance": [],
      "collapsed_sections": [
        "m-ILfxY_zOos",
        "vf28LORa2H8i",
        "5PGBNwVIUDWL",
        "hgnkcWT7gswi",
        "g3RdGcy_gu-Q",
        "tsvVekxkjK40"
      ],
      "toc_visible": true,
      "machine_shape": "hm"
    },
    "kernelspec": {
      "name": "python3",
      "display_name": "Python 3"
    },
    "accelerator": "TPU"
  },
  "cells": [
    {
      "cell_type": "markdown",
      "metadata": {
        "id": "UGbXSyjly6jf",
        "colab_type": "text"
      },
      "source": [
        "## Predicting Client's Repayment Ability\n",
        "This python notebook includes our data merging and modeling process, for data cleaning of the main table, please refer to the R Markdown."
      ]
    },
    {
      "cell_type": "markdown",
      "metadata": {
        "id": "9ONmnZi3zRO3",
        "colab_type": "text"
      },
      "source": [
        "## BA 888 - Capstone Project\n",
        "Team 7"
      ]
    },
    {
      "cell_type": "markdown",
      "metadata": {
        "id": "m-ILfxY_zOos",
        "colab_type": "text"
      },
      "source": [
        "## Import libraries"
      ]
    },
    {
      "cell_type": "code",
      "metadata": {
        "id": "FjV7TcB_K0m9",
        "colab_type": "code",
        "outputId": "dbcf914b-48ec-4219-fdb7-08d1757ce8ad",
        "colab": {
          "base_uri": "https://localhost:8080/",
          "height": 105
        }
      },
      "source": [
        "import pandas as pd\n",
        "import numpy as np\n",
        "from sklearn.cluster import KMeans\n",
        "from collections import Counter\n",
        "from imblearn.over_sampling import SMOTE\n",
        "from imblearn.under_sampling import RandomUnderSampler\n",
        "from imblearn.pipeline import Pipeline\n",
        "from collections import Counter\n",
        "from imblearn.over_sampling import SMOTE\n",
        "from imblearn.under_sampling import RandomUnderSampler\n",
        "from imblearn.pipeline import Pipeline\n",
        "import pandas as pd\n",
        "import numpy as np\n",
        "import matplotlib.pyplot as plt\n",
        "import xgboost as xgb\n",
        "from sklearn.cluster import KMeans\n",
        "from sklearn.model_selection import train_test_split\n",
        "from sklearn.ensemble import RandomForestClassifier\n",
        "from xgboost import XGBClassifier, cv, DMatrix\n",
        "from sklearn.linear_model import LogisticRegression\n",
        "from sklearn.metrics import accuracy_score, roc_curve, auc, roc_auc_score, confusion_matrix, f1_score\n",
        "from sklearn.preprocessing import StandardScaler\n",
        "from sklearn.model_selection import GridSearchCV\n",
        "from sklearn.metrics import precision_recall_curve"
      ],
      "execution_count": 0,
      "outputs": [
        {
          "output_type": "stream",
          "text": [
            "/usr/local/lib/python3.6/dist-packages/sklearn/externals/six.py:31: FutureWarning: The module is deprecated in version 0.21 and will be removed in version 0.23 since we've dropped support for Python 2.7. Please rely on the official version of six (https://pypi.org/project/six/).\n",
            "  \"(https://pypi.org/project/six/).\", FutureWarning)\n",
            "/usr/local/lib/python3.6/dist-packages/sklearn/utils/deprecation.py:144: FutureWarning: The sklearn.neighbors.base module is  deprecated in version 0.22 and will be removed in version 0.24. The corresponding classes / functions should instead be imported from sklearn.neighbors. Anything that cannot be imported from sklearn.neighbors is now part of the private API.\n",
            "  warnings.warn(message, FutureWarning)\n"
          ],
          "name": "stderr"
        }
      ]
    },
    {
      "cell_type": "markdown",
      "metadata": {
        "id": "LcsDHioAMYYs",
        "colab_type": "text"
      },
      "source": [
        "## Data Merging \n",
        "In this section, we extract important features from the 5 small tables that we think might be relevant to the applicant's current loan application and merge these features to the main application table."
      ]
    },
    {
      "cell_type": "markdown",
      "metadata": {
        "id": "oi1iKnNVMmMz",
        "colab_type": "text"
      },
      "source": [
        "### Main tables  \n",
        "Static data for all applications. One row represents one loan in our data sample."
      ]
    },
    {
      "cell_type": "code",
      "metadata": {
        "id": "HaHKDyh9al5e",
        "colab_type": "code",
        "outputId": "5ed1c8ee-d7a6-4bf0-9fd9-0e5f8ad5f77c",
        "colab": {
          "base_uri": "https://localhost:8080/",
          "height": 122
        }
      },
      "source": [
        "from google.colab import drive\n",
        "drive.mount('/content/drive')"
      ],
      "execution_count": 0,
      "outputs": [
        {
          "output_type": "stream",
          "text": [
            "Go to this URL in a browser: https://accounts.google.com/o/oauth2/auth?client_id=947318989803-6bn6qk8qdgf4n4g3pfee6491hc0brc4i.apps.googleusercontent.com&redirect_uri=urn%3aietf%3awg%3aoauth%3a2.0%3aoob&response_type=code&scope=email%20https%3a%2f%2fwww.googleapis.com%2fauth%2fdocs.test%20https%3a%2f%2fwww.googleapis.com%2fauth%2fdrive%20https%3a%2f%2fwww.googleapis.com%2fauth%2fdrive.photos.readonly%20https%3a%2f%2fwww.googleapis.com%2fauth%2fpeopleapi.readonly\n",
            "\n",
            "Enter your authorization code:\n",
            "··········\n",
            "Mounted at /content/drive\n"
          ],
          "name": "stdout"
        }
      ]
    },
    {
      "cell_type": "code",
      "metadata": {
        "id": "_nz7w05TbZeR",
        "colab_type": "code",
        "colab": {}
      },
      "source": [
        "df = pd.read_csv(\"drive/My Drive/888/dummy.csv\")"
      ],
      "execution_count": 0,
      "outputs": []
    },
    {
      "cell_type": "code",
      "metadata": {
        "id": "YMfC-tLq3RaF",
        "colab_type": "code",
        "outputId": "48eec9a4-6fc1-4804-8f6c-df90ba879727",
        "colab": {
          "base_uri": "https://localhost:8080/",
          "height": 270
        }
      },
      "source": [
        "df.head()"
      ],
      "execution_count": 0,
      "outputs": [
        {
          "output_type": "execute_result",
          "data": {
            "text/html": [
              "<div>\n",
              "<style scoped>\n",
              "    .dataframe tbody tr th:only-of-type {\n",
              "        vertical-align: middle;\n",
              "    }\n",
              "\n",
              "    .dataframe tbody tr th {\n",
              "        vertical-align: top;\n",
              "    }\n",
              "\n",
              "    .dataframe thead th {\n",
              "        text-align: right;\n",
              "    }\n",
              "</style>\n",
              "<table border=\"1\" class=\"dataframe\">\n",
              "  <thead>\n",
              "    <tr style=\"text-align: right;\">\n",
              "      <th></th>\n",
              "      <th>Unnamed: 0</th>\n",
              "      <th>SK_ID_CURR</th>\n",
              "      <th>TARGET</th>\n",
              "      <th>NAME_CONTRACT_TYPE.Revolving.loans</th>\n",
              "      <th>CODE_GENDER.M</th>\n",
              "      <th>FLAG_OWN_CAR.Y</th>\n",
              "      <th>FLAG_OWN_REALTY.Y</th>\n",
              "      <th>CNT_CHILDREN</th>\n",
              "      <th>AMT_INCOME_TOTAL</th>\n",
              "      <th>AMT_CREDIT</th>\n",
              "      <th>AMT_ANNUITY</th>\n",
              "      <th>AMT_GOODS_PRICE</th>\n",
              "      <th>NAME_TYPE_SUITE.Family</th>\n",
              "      <th>NAME_TYPE_SUITE.Group.of.people</th>\n",
              "      <th>NAME_TYPE_SUITE.Not.Provided</th>\n",
              "      <th>NAME_TYPE_SUITE.Other_A</th>\n",
              "      <th>NAME_TYPE_SUITE.Other_B</th>\n",
              "      <th>NAME_TYPE_SUITE.Spouse..partner</th>\n",
              "      <th>NAME_TYPE_SUITE.Unaccompanied</th>\n",
              "      <th>NAME_INCOME_TYPE.Commercial.associate</th>\n",
              "      <th>NAME_INCOME_TYPE.Maternity.leave</th>\n",
              "      <th>NAME_INCOME_TYPE.Pensioner</th>\n",
              "      <th>NAME_INCOME_TYPE.State.servant</th>\n",
              "      <th>NAME_INCOME_TYPE.Student</th>\n",
              "      <th>NAME_INCOME_TYPE.Unemployed</th>\n",
              "      <th>NAME_INCOME_TYPE.Working</th>\n",
              "      <th>NAME_EDUCATION_TYPE.Higher.education</th>\n",
              "      <th>NAME_EDUCATION_TYPE.Incomplete.higher</th>\n",
              "      <th>NAME_EDUCATION_TYPE.Lower.secondary</th>\n",
              "      <th>NAME_EDUCATION_TYPE.Secondary...secondary.special</th>\n",
              "      <th>NAME_FAMILY_STATUS.Married</th>\n",
              "      <th>NAME_FAMILY_STATUS.Separated</th>\n",
              "      <th>NAME_FAMILY_STATUS.Single...not.married</th>\n",
              "      <th>NAME_FAMILY_STATUS.Widow</th>\n",
              "      <th>NAME_HOUSING_TYPE.House...apartment</th>\n",
              "      <th>NAME_HOUSING_TYPE.Municipal.apartment</th>\n",
              "      <th>NAME_HOUSING_TYPE.Office.apartment</th>\n",
              "      <th>NAME_HOUSING_TYPE.Rented.apartment</th>\n",
              "      <th>NAME_HOUSING_TYPE.With.parents</th>\n",
              "      <th>REGION_POPULATION_RELATIVE</th>\n",
              "      <th>...</th>\n",
              "      <th>ORGANIZATION_TYPE.Industry..type.7</th>\n",
              "      <th>ORGANIZATION_TYPE.Industry..type.8</th>\n",
              "      <th>ORGANIZATION_TYPE.Industry..type.9</th>\n",
              "      <th>ORGANIZATION_TYPE.Insurance</th>\n",
              "      <th>ORGANIZATION_TYPE.Kindergarten</th>\n",
              "      <th>ORGANIZATION_TYPE.Legal.Services</th>\n",
              "      <th>ORGANIZATION_TYPE.Medicine</th>\n",
              "      <th>ORGANIZATION_TYPE.Military</th>\n",
              "      <th>ORGANIZATION_TYPE.Mobile</th>\n",
              "      <th>ORGANIZATION_TYPE.Not.Provided</th>\n",
              "      <th>ORGANIZATION_TYPE.Other</th>\n",
              "      <th>ORGANIZATION_TYPE.Police</th>\n",
              "      <th>ORGANIZATION_TYPE.Postal</th>\n",
              "      <th>ORGANIZATION_TYPE.Realtor</th>\n",
              "      <th>ORGANIZATION_TYPE.Religion</th>\n",
              "      <th>ORGANIZATION_TYPE.Restaurant</th>\n",
              "      <th>ORGANIZATION_TYPE.School</th>\n",
              "      <th>ORGANIZATION_TYPE.Security</th>\n",
              "      <th>ORGANIZATION_TYPE.Security.Ministries</th>\n",
              "      <th>ORGANIZATION_TYPE.Self.employed</th>\n",
              "      <th>ORGANIZATION_TYPE.Services</th>\n",
              "      <th>ORGANIZATION_TYPE.Telecom</th>\n",
              "      <th>ORGANIZATION_TYPE.Trade..type.1</th>\n",
              "      <th>ORGANIZATION_TYPE.Trade..type.2</th>\n",
              "      <th>ORGANIZATION_TYPE.Trade..type.3</th>\n",
              "      <th>ORGANIZATION_TYPE.Trade..type.4</th>\n",
              "      <th>ORGANIZATION_TYPE.Trade..type.5</th>\n",
              "      <th>ORGANIZATION_TYPE.Trade..type.6</th>\n",
              "      <th>ORGANIZATION_TYPE.Trade..type.7</th>\n",
              "      <th>ORGANIZATION_TYPE.Transport..type.1</th>\n",
              "      <th>ORGANIZATION_TYPE.Transport..type.2</th>\n",
              "      <th>ORGANIZATION_TYPE.Transport..type.3</th>\n",
              "      <th>ORGANIZATION_TYPE.Transport..type.4</th>\n",
              "      <th>ORGANIZATION_TYPE.University</th>\n",
              "      <th>EXT_SOURCE_2</th>\n",
              "      <th>EXT_SOURCE_3</th>\n",
              "      <th>DAYS_LAST_PHONE_CHANGE</th>\n",
              "      <th>AMT_REQ_CREDIT_BUREAU_WEEK</th>\n",
              "      <th>AMT_REQ_CREDIT_BUREAU_YEAR</th>\n",
              "      <th>TRAIN</th>\n",
              "    </tr>\n",
              "  </thead>\n",
              "  <tbody>\n",
              "    <tr>\n",
              "      <th>0</th>\n",
              "      <td>2</td>\n",
              "      <td>100031.0</td>\n",
              "      <td>1</td>\n",
              "      <td>0</td>\n",
              "      <td>0</td>\n",
              "      <td>0</td>\n",
              "      <td>1</td>\n",
              "      <td>0</td>\n",
              "      <td>112500.0</td>\n",
              "      <td>979992.0</td>\n",
              "      <td>27076.5</td>\n",
              "      <td>702000.0</td>\n",
              "      <td>0</td>\n",
              "      <td>0</td>\n",
              "      <td>0</td>\n",
              "      <td>0</td>\n",
              "      <td>0</td>\n",
              "      <td>0</td>\n",
              "      <td>1</td>\n",
              "      <td>0</td>\n",
              "      <td>0</td>\n",
              "      <td>0</td>\n",
              "      <td>0</td>\n",
              "      <td>0</td>\n",
              "      <td>0</td>\n",
              "      <td>1</td>\n",
              "      <td>0</td>\n",
              "      <td>0</td>\n",
              "      <td>0</td>\n",
              "      <td>1</td>\n",
              "      <td>0</td>\n",
              "      <td>0</td>\n",
              "      <td>0</td>\n",
              "      <td>1</td>\n",
              "      <td>1</td>\n",
              "      <td>0</td>\n",
              "      <td>0</td>\n",
              "      <td>0</td>\n",
              "      <td>0</td>\n",
              "      <td>0.018029</td>\n",
              "      <td>...</td>\n",
              "      <td>0</td>\n",
              "      <td>0</td>\n",
              "      <td>0</td>\n",
              "      <td>0</td>\n",
              "      <td>0</td>\n",
              "      <td>0</td>\n",
              "      <td>0</td>\n",
              "      <td>0</td>\n",
              "      <td>0</td>\n",
              "      <td>0</td>\n",
              "      <td>0</td>\n",
              "      <td>0</td>\n",
              "      <td>0</td>\n",
              "      <td>0</td>\n",
              "      <td>0</td>\n",
              "      <td>0</td>\n",
              "      <td>0</td>\n",
              "      <td>0</td>\n",
              "      <td>0</td>\n",
              "      <td>0</td>\n",
              "      <td>0</td>\n",
              "      <td>0</td>\n",
              "      <td>0</td>\n",
              "      <td>0</td>\n",
              "      <td>0</td>\n",
              "      <td>0</td>\n",
              "      <td>0</td>\n",
              "      <td>0</td>\n",
              "      <td>0</td>\n",
              "      <td>0</td>\n",
              "      <td>0</td>\n",
              "      <td>0</td>\n",
              "      <td>0</td>\n",
              "      <td>0</td>\n",
              "      <td>0.548477</td>\n",
              "      <td>0.190706</td>\n",
              "      <td>-161</td>\n",
              "      <td>0</td>\n",
              "      <td>2</td>\n",
              "      <td>1</td>\n",
              "    </tr>\n",
              "    <tr>\n",
              "      <th>1</th>\n",
              "      <td>3</td>\n",
              "      <td>100047.0</td>\n",
              "      <td>1</td>\n",
              "      <td>0</td>\n",
              "      <td>1</td>\n",
              "      <td>0</td>\n",
              "      <td>1</td>\n",
              "      <td>0</td>\n",
              "      <td>202500.0</td>\n",
              "      <td>1193580.0</td>\n",
              "      <td>35028.0</td>\n",
              "      <td>855000.0</td>\n",
              "      <td>0</td>\n",
              "      <td>0</td>\n",
              "      <td>0</td>\n",
              "      <td>0</td>\n",
              "      <td>0</td>\n",
              "      <td>0</td>\n",
              "      <td>1</td>\n",
              "      <td>1</td>\n",
              "      <td>0</td>\n",
              "      <td>0</td>\n",
              "      <td>0</td>\n",
              "      <td>0</td>\n",
              "      <td>0</td>\n",
              "      <td>0</td>\n",
              "      <td>0</td>\n",
              "      <td>0</td>\n",
              "      <td>0</td>\n",
              "      <td>1</td>\n",
              "      <td>1</td>\n",
              "      <td>0</td>\n",
              "      <td>0</td>\n",
              "      <td>0</td>\n",
              "      <td>1</td>\n",
              "      <td>0</td>\n",
              "      <td>0</td>\n",
              "      <td>0</td>\n",
              "      <td>0</td>\n",
              "      <td>0.025164</td>\n",
              "      <td>...</td>\n",
              "      <td>0</td>\n",
              "      <td>0</td>\n",
              "      <td>0</td>\n",
              "      <td>0</td>\n",
              "      <td>0</td>\n",
              "      <td>0</td>\n",
              "      <td>0</td>\n",
              "      <td>0</td>\n",
              "      <td>0</td>\n",
              "      <td>0</td>\n",
              "      <td>0</td>\n",
              "      <td>0</td>\n",
              "      <td>0</td>\n",
              "      <td>0</td>\n",
              "      <td>0</td>\n",
              "      <td>0</td>\n",
              "      <td>0</td>\n",
              "      <td>0</td>\n",
              "      <td>0</td>\n",
              "      <td>0</td>\n",
              "      <td>0</td>\n",
              "      <td>0</td>\n",
              "      <td>0</td>\n",
              "      <td>0</td>\n",
              "      <td>0</td>\n",
              "      <td>0</td>\n",
              "      <td>0</td>\n",
              "      <td>0</td>\n",
              "      <td>0</td>\n",
              "      <td>0</td>\n",
              "      <td>0</td>\n",
              "      <td>0</td>\n",
              "      <td>0</td>\n",
              "      <td>0</td>\n",
              "      <td>0.306841</td>\n",
              "      <td>0.320163</td>\n",
              "      <td>-1075</td>\n",
              "      <td>0</td>\n",
              "      <td>4</td>\n",
              "      <td>1</td>\n",
              "    </tr>\n",
              "    <tr>\n",
              "      <th>2</th>\n",
              "      <td>4</td>\n",
              "      <td>100049.0</td>\n",
              "      <td>1</td>\n",
              "      <td>0</td>\n",
              "      <td>0</td>\n",
              "      <td>0</td>\n",
              "      <td>0</td>\n",
              "      <td>0</td>\n",
              "      <td>135000.0</td>\n",
              "      <td>288873.0</td>\n",
              "      <td>16258.5</td>\n",
              "      <td>238500.0</td>\n",
              "      <td>0</td>\n",
              "      <td>0</td>\n",
              "      <td>0</td>\n",
              "      <td>0</td>\n",
              "      <td>0</td>\n",
              "      <td>0</td>\n",
              "      <td>1</td>\n",
              "      <td>0</td>\n",
              "      <td>0</td>\n",
              "      <td>0</td>\n",
              "      <td>0</td>\n",
              "      <td>0</td>\n",
              "      <td>0</td>\n",
              "      <td>1</td>\n",
              "      <td>0</td>\n",
              "      <td>0</td>\n",
              "      <td>0</td>\n",
              "      <td>1</td>\n",
              "      <td>0</td>\n",
              "      <td>0</td>\n",
              "      <td>0</td>\n",
              "      <td>0</td>\n",
              "      <td>1</td>\n",
              "      <td>0</td>\n",
              "      <td>0</td>\n",
              "      <td>0</td>\n",
              "      <td>0</td>\n",
              "      <td>0.007305</td>\n",
              "      <td>...</td>\n",
              "      <td>0</td>\n",
              "      <td>0</td>\n",
              "      <td>0</td>\n",
              "      <td>0</td>\n",
              "      <td>0</td>\n",
              "      <td>0</td>\n",
              "      <td>0</td>\n",
              "      <td>0</td>\n",
              "      <td>0</td>\n",
              "      <td>0</td>\n",
              "      <td>0</td>\n",
              "      <td>0</td>\n",
              "      <td>0</td>\n",
              "      <td>0</td>\n",
              "      <td>0</td>\n",
              "      <td>0</td>\n",
              "      <td>0</td>\n",
              "      <td>0</td>\n",
              "      <td>0</td>\n",
              "      <td>1</td>\n",
              "      <td>0</td>\n",
              "      <td>0</td>\n",
              "      <td>0</td>\n",
              "      <td>0</td>\n",
              "      <td>0</td>\n",
              "      <td>0</td>\n",
              "      <td>0</td>\n",
              "      <td>0</td>\n",
              "      <td>0</td>\n",
              "      <td>0</td>\n",
              "      <td>0</td>\n",
              "      <td>0</td>\n",
              "      <td>0</td>\n",
              "      <td>0</td>\n",
              "      <td>0.674203</td>\n",
              "      <td>0.399676</td>\n",
              "      <td>-1480</td>\n",
              "      <td>0</td>\n",
              "      <td>2</td>\n",
              "      <td>1</td>\n",
              "    </tr>\n",
              "    <tr>\n",
              "      <th>3</th>\n",
              "      <td>5</td>\n",
              "      <td>100096.0</td>\n",
              "      <td>1</td>\n",
              "      <td>0</td>\n",
              "      <td>0</td>\n",
              "      <td>0</td>\n",
              "      <td>1</td>\n",
              "      <td>0</td>\n",
              "      <td>81000.0</td>\n",
              "      <td>252000.0</td>\n",
              "      <td>14593.5</td>\n",
              "      <td>252000.0</td>\n",
              "      <td>0</td>\n",
              "      <td>0</td>\n",
              "      <td>0</td>\n",
              "      <td>0</td>\n",
              "      <td>0</td>\n",
              "      <td>0</td>\n",
              "      <td>1</td>\n",
              "      <td>0</td>\n",
              "      <td>0</td>\n",
              "      <td>1</td>\n",
              "      <td>0</td>\n",
              "      <td>0</td>\n",
              "      <td>0</td>\n",
              "      <td>0</td>\n",
              "      <td>0</td>\n",
              "      <td>0</td>\n",
              "      <td>0</td>\n",
              "      <td>1</td>\n",
              "      <td>1</td>\n",
              "      <td>0</td>\n",
              "      <td>0</td>\n",
              "      <td>0</td>\n",
              "      <td>1</td>\n",
              "      <td>0</td>\n",
              "      <td>0</td>\n",
              "      <td>0</td>\n",
              "      <td>0</td>\n",
              "      <td>0.028663</td>\n",
              "      <td>...</td>\n",
              "      <td>0</td>\n",
              "      <td>0</td>\n",
              "      <td>0</td>\n",
              "      <td>0</td>\n",
              "      <td>0</td>\n",
              "      <td>0</td>\n",
              "      <td>0</td>\n",
              "      <td>0</td>\n",
              "      <td>0</td>\n",
              "      <td>1</td>\n",
              "      <td>0</td>\n",
              "      <td>0</td>\n",
              "      <td>0</td>\n",
              "      <td>0</td>\n",
              "      <td>0</td>\n",
              "      <td>0</td>\n",
              "      <td>0</td>\n",
              "      <td>0</td>\n",
              "      <td>0</td>\n",
              "      <td>0</td>\n",
              "      <td>0</td>\n",
              "      <td>0</td>\n",
              "      <td>0</td>\n",
              "      <td>0</td>\n",
              "      <td>0</td>\n",
              "      <td>0</td>\n",
              "      <td>0</td>\n",
              "      <td>0</td>\n",
              "      <td>0</td>\n",
              "      <td>0</td>\n",
              "      <td>0</td>\n",
              "      <td>0</td>\n",
              "      <td>0</td>\n",
              "      <td>0</td>\n",
              "      <td>0.023952</td>\n",
              "      <td>0.720944</td>\n",
              "      <td>0</td>\n",
              "      <td>0</td>\n",
              "      <td>0</td>\n",
              "      <td>1</td>\n",
              "    </tr>\n",
              "    <tr>\n",
              "      <th>4</th>\n",
              "      <td>6</td>\n",
              "      <td>100112.0</td>\n",
              "      <td>1</td>\n",
              "      <td>0</td>\n",
              "      <td>1</td>\n",
              "      <td>1</td>\n",
              "      <td>1</td>\n",
              "      <td>0</td>\n",
              "      <td>315000.0</td>\n",
              "      <td>953460.0</td>\n",
              "      <td>64107.0</td>\n",
              "      <td>900000.0</td>\n",
              "      <td>1</td>\n",
              "      <td>0</td>\n",
              "      <td>0</td>\n",
              "      <td>0</td>\n",
              "      <td>0</td>\n",
              "      <td>0</td>\n",
              "      <td>0</td>\n",
              "      <td>1</td>\n",
              "      <td>0</td>\n",
              "      <td>0</td>\n",
              "      <td>0</td>\n",
              "      <td>0</td>\n",
              "      <td>0</td>\n",
              "      <td>0</td>\n",
              "      <td>0</td>\n",
              "      <td>1</td>\n",
              "      <td>0</td>\n",
              "      <td>0</td>\n",
              "      <td>0</td>\n",
              "      <td>0</td>\n",
              "      <td>1</td>\n",
              "      <td>0</td>\n",
              "      <td>0</td>\n",
              "      <td>0</td>\n",
              "      <td>0</td>\n",
              "      <td>0</td>\n",
              "      <td>1</td>\n",
              "      <td>0.030755</td>\n",
              "      <td>...</td>\n",
              "      <td>0</td>\n",
              "      <td>0</td>\n",
              "      <td>0</td>\n",
              "      <td>0</td>\n",
              "      <td>0</td>\n",
              "      <td>0</td>\n",
              "      <td>0</td>\n",
              "      <td>0</td>\n",
              "      <td>0</td>\n",
              "      <td>0</td>\n",
              "      <td>0</td>\n",
              "      <td>0</td>\n",
              "      <td>0</td>\n",
              "      <td>0</td>\n",
              "      <td>0</td>\n",
              "      <td>0</td>\n",
              "      <td>0</td>\n",
              "      <td>0</td>\n",
              "      <td>0</td>\n",
              "      <td>0</td>\n",
              "      <td>0</td>\n",
              "      <td>0</td>\n",
              "      <td>0</td>\n",
              "      <td>0</td>\n",
              "      <td>0</td>\n",
              "      <td>0</td>\n",
              "      <td>0</td>\n",
              "      <td>0</td>\n",
              "      <td>0</td>\n",
              "      <td>0</td>\n",
              "      <td>0</td>\n",
              "      <td>0</td>\n",
              "      <td>0</td>\n",
              "      <td>0</td>\n",
              "      <td>0.432340</td>\n",
              "      <td>0.077499</td>\n",
              "      <td>-591</td>\n",
              "      <td>0</td>\n",
              "      <td>2</td>\n",
              "      <td>1</td>\n",
              "    </tr>\n",
              "  </tbody>\n",
              "</table>\n",
              "<p>5 rows × 143 columns</p>\n",
              "</div>"
            ],
            "text/plain": [
              "   Unnamed: 0  SK_ID_CURR  ...  AMT_REQ_CREDIT_BUREAU_YEAR  TRAIN\n",
              "0           2    100031.0  ...                           2      1\n",
              "1           3    100047.0  ...                           4      1\n",
              "2           4    100049.0  ...                           2      1\n",
              "3           5    100096.0  ...                           0      1\n",
              "4           6    100112.0  ...                           2      1\n",
              "\n",
              "[5 rows x 143 columns]"
            ]
          },
          "metadata": {
            "tags": []
          },
          "execution_count": 34
        }
      ]
    },
    {
      "cell_type": "markdown",
      "metadata": {
        "id": "hx_kAej7Oxgz",
        "colab_type": "text"
      },
      "source": [
        "### POS_CASH_balance Data\n",
        "Monthly balance snapshots of previous POS (point of sales) and cash loans that the applicant had with Home Credit.  \n",
        "This table has one row for each month of history of every prev[link text](https://)ious credit in Home Credit (consumer credit and cash loans) related to loans in main data"
      ]
    },
    {
      "cell_type": "code",
      "metadata": {
        "id": "xAIBBDhqOb6r",
        "colab_type": "code",
        "colab": {}
      },
      "source": [
        "#Group by SK_ID_CURR and aggregate\n",
        "# Input and display the cleaned POS_CASH_balance dataset\n",
        "pos_cash= pd.read_csv('drive/My Drive/888/df_POS_CASH.csv',sep=\"\\t\")"
      ],
      "execution_count": 0,
      "outputs": []
    },
    {
      "cell_type": "code",
      "metadata": {
        "id": "6WXqzULQPBBj",
        "colab_type": "code",
        "outputId": "f9a0c3f3-62e8-49c1-ceb6-26a33f913393",
        "colab": {
          "base_uri": "https://localhost:8080/",
          "height": 204
        }
      },
      "source": [
        "pos_cash.head()"
      ],
      "execution_count": 0,
      "outputs": [
        {
          "output_type": "execute_result",
          "data": {
            "text/html": [
              "<div>\n",
              "<style scoped>\n",
              "    .dataframe tbody tr th:only-of-type {\n",
              "        vertical-align: middle;\n",
              "    }\n",
              "\n",
              "    .dataframe tbody tr th {\n",
              "        vertical-align: top;\n",
              "    }\n",
              "\n",
              "    .dataframe thead th {\n",
              "        text-align: right;\n",
              "    }\n",
              "</style>\n",
              "<table border=\"1\" class=\"dataframe\">\n",
              "  <thead>\n",
              "    <tr style=\"text-align: right;\">\n",
              "      <th></th>\n",
              "      <th>SK_ID_CURR</th>\n",
              "      <th>defalut_rate_POS</th>\n",
              "    </tr>\n",
              "  </thead>\n",
              "  <tbody>\n",
              "    <tr>\n",
              "      <th>0</th>\n",
              "      <td>100001.0</td>\n",
              "      <td>0.111111</td>\n",
              "    </tr>\n",
              "    <tr>\n",
              "      <th>1</th>\n",
              "      <td>100002.0</td>\n",
              "      <td>0.000000</td>\n",
              "    </tr>\n",
              "    <tr>\n",
              "      <th>2</th>\n",
              "      <td>100003.0</td>\n",
              "      <td>0.000000</td>\n",
              "    </tr>\n",
              "    <tr>\n",
              "      <th>3</th>\n",
              "      <td>100004.0</td>\n",
              "      <td>0.000000</td>\n",
              "    </tr>\n",
              "    <tr>\n",
              "      <th>4</th>\n",
              "      <td>100005.0</td>\n",
              "      <td>0.000000</td>\n",
              "    </tr>\n",
              "  </tbody>\n",
              "</table>\n",
              "</div>"
            ],
            "text/plain": [
              "   SK_ID_CURR  defalut_rate_POS\n",
              "0    100001.0          0.111111\n",
              "1    100002.0          0.000000\n",
              "2    100003.0          0.000000\n",
              "3    100004.0          0.000000\n",
              "4    100005.0          0.000000"
            ]
          },
          "metadata": {
            "tags": []
          },
          "execution_count": 36
        }
      ]
    },
    {
      "cell_type": "markdown",
      "metadata": {
        "id": "a7fFdgWcRYzP",
        "colab_type": "text"
      },
      "source": [
        "* default_rate_POS = $\\frac{number \\ of \\ past \\ due \\ (with \\ tolerance) }{total\\ number \\ of\\ months}$"
      ]
    },
    {
      "cell_type": "markdown",
      "metadata": {
        "id": "mHzLC_J-Mtaa",
        "colab_type": "text"
      },
      "source": [
        "### Installment Payment Data\n",
        "Repayment history for the previously disbursed credits in Home Credit related to the loans in our sample.   \n",
        "One row is equivalent to one payment of one installment from previous loan application."
      ]
    },
    {
      "cell_type": "code",
      "metadata": {
        "id": "0dWgOiLqPvhk",
        "colab_type": "code",
        "colab": {}
      },
      "source": [
        "# SELECT\n",
        "#   COUNT(DISTINCT SK_ID_PREV) AS NUM_PREV,\n",
        "#   COUNT(*) AS NUM_PAY,\n",
        "#   SK_ID_CURR,\n",
        "#   AVG(DAYS_PAST_DUE_INS) AS AVG_PASS_DUE_INS,\n",
        "#   SUM(CASE\n",
        "#       WHEN DAYS_PAST_DUE_INS <= 0 THEN 1\n",
        "#     ELSE\n",
        "#     0\n",
        "#   END\n",
        "#     ) AS NUM_PRE_PAY,\n",
        "#   SUM(CASE\n",
        "#       WHEN DAYS_PAST_DUE_INS > 0 THEN 1\n",
        "#     ELSE\n",
        "#     0\n",
        "#   END\n",
        "#     ) AS NUM_LATE_PAY,\n",
        "#   MAX(AMT_INSTALMENT)AS MAX_AMT_INS,\n",
        "#   SUM(UNPAY_AMOUNT) AS TOTAL_UNPAY,\n",
        "# FROM (\n",
        "#   SELECT\n",
        "#     SK_ID_PREV,\n",
        "#     SK_ID_CURR,\n",
        "#     (DAYS_ENTRY_PAYMENT - DAYS_INSTALMENT) AS DAYS_PAST_DUE_INS,\n",
        "#     (AMT_INSTALMENT- AMT_PAYMENT)AS UNPAY_AMOUNT,\n",
        "#     AMT_INSTALMENT,\n",
        "#     AMT_PAYMENT\n",
        "#   FROM\n",
        "#     `ba888-team7.Original_dataset.installments_payments` )\n",
        "# GROUP BY\n",
        "#   SK_ID_CURR"
      ],
      "execution_count": 0,
      "outputs": []
    },
    {
      "cell_type": "code",
      "metadata": {
        "id": "YTdtXH-T69oW",
        "colab_type": "code",
        "outputId": "d2675e53-8206-4045-b1be-5faead22c155",
        "colab": {
          "base_uri": "https://localhost:8080/",
          "height": 71
        }
      },
      "source": [
        "#Group by SK_ID_CURR and agregate\n",
        "# Input and display the cleaned installment_payment dataset\n",
        "install_pay = pd.read_csv('drive/My Drive/888/installment_payment.csv')"
      ],
      "execution_count": 0,
      "outputs": [
        {
          "output_type": "stream",
          "text": [
            "/usr/local/lib/python3.6/dist-packages/IPython/core/interactiveshell.py:2718: DtypeWarning: Columns (4) have mixed types.Specify dtype option on import or set low_memory=False.\n",
            "  interactivity=interactivity, compiler=compiler, result=result)\n"
          ],
          "name": "stderr"
        }
      ]
    },
    {
      "cell_type": "code",
      "metadata": {
        "id": "0U2rG3cOW2j0",
        "colab_type": "code",
        "outputId": "a990b267-7a94-46f8-931c-1060c780938c",
        "colab": {
          "base_uri": "https://localhost:8080/",
          "height": 204
        }
      },
      "source": [
        "install_pay.head()"
      ],
      "execution_count": 0,
      "outputs": [
        {
          "output_type": "execute_result",
          "data": {
            "text/html": [
              "<div>\n",
              "<style scoped>\n",
              "    .dataframe tbody tr th:only-of-type {\n",
              "        vertical-align: middle;\n",
              "    }\n",
              "\n",
              "    .dataframe tbody tr th {\n",
              "        vertical-align: top;\n",
              "    }\n",
              "\n",
              "    .dataframe thead th {\n",
              "        text-align: right;\n",
              "    }\n",
              "</style>\n",
              "<table border=\"1\" class=\"dataframe\">\n",
              "  <thead>\n",
              "    <tr style=\"text-align: right;\">\n",
              "      <th></th>\n",
              "      <th>NUM_PREV</th>\n",
              "      <th>SK_ID_CURR</th>\n",
              "      <th>AVG_PASS_DUE_INS</th>\n",
              "      <th>ins_nprepay_ratio</th>\n",
              "      <th>ins_tunpay_ratio</th>\n",
              "    </tr>\n",
              "  </thead>\n",
              "  <tbody>\n",
              "    <tr>\n",
              "      <th>0</th>\n",
              "      <td>4</td>\n",
              "      <td>337754</td>\n",
              "      <td>-9.472973</td>\n",
              "      <td>0.972973</td>\n",
              "      <td>0.007195642</td>\n",
              "    </tr>\n",
              "    <tr>\n",
              "      <th>1</th>\n",
              "      <td>5</td>\n",
              "      <td>328721</td>\n",
              "      <td>-3.339286</td>\n",
              "      <td>0.607143</td>\n",
              "      <td>0.061512485</td>\n",
              "    </tr>\n",
              "    <tr>\n",
              "      <th>2</th>\n",
              "      <td>5</td>\n",
              "      <td>347668</td>\n",
              "      <td>-7.475410</td>\n",
              "      <td>0.868852</td>\n",
              "      <td>0.024921934</td>\n",
              "    </tr>\n",
              "    <tr>\n",
              "      <th>3</th>\n",
              "      <td>3</td>\n",
              "      <td>318817</td>\n",
              "      <td>-2.915493</td>\n",
              "      <td>1.000000</td>\n",
              "      <td>0</td>\n",
              "    </tr>\n",
              "    <tr>\n",
              "      <th>4</th>\n",
              "      <td>5</td>\n",
              "      <td>304054</td>\n",
              "      <td>-5.860465</td>\n",
              "      <td>0.837209</td>\n",
              "      <td>0.070643568</td>\n",
              "    </tr>\n",
              "  </tbody>\n",
              "</table>\n",
              "</div>"
            ],
            "text/plain": [
              "   NUM_PREV  SK_ID_CURR  AVG_PASS_DUE_INS  ins_nprepay_ratio ins_tunpay_ratio\n",
              "0         4      337754         -9.472973           0.972973      0.007195642\n",
              "1         5      328721         -3.339286           0.607143      0.061512485\n",
              "2         5      347668         -7.475410           0.868852      0.024921934\n",
              "3         3      318817         -2.915493           1.000000                0\n",
              "4         5      304054         -5.860465           0.837209      0.070643568"
            ]
          },
          "metadata": {
            "tags": []
          },
          "execution_count": 38
        }
      ]
    },
    {
      "cell_type": "code",
      "metadata": {
        "id": "3C32GsKul9ZV",
        "colab_type": "code",
        "colab": {}
      },
      "source": [
        "install_pay[\"ins_tunpay_ratio\"] = pd.to_numeric(install_pay[\"ins_tunpay_ratio\"],errors='coerce')"
      ],
      "execution_count": 0,
      "outputs": []
    },
    {
      "cell_type": "markdown",
      "metadata": {
        "id": "jSuddw9dLPs9",
        "colab_type": "text"
      },
      "source": [
        "* NUM_PREV :\t Count of the previous applications\n",
        "* SK_ID_CURR\t:  ID of loan, key to join back to main dataset\n",
        "* AVG_PASS_DUE_INS\t:  AVG(days_entry_payment - days_instalment) (Negative means pay before due day)\n",
        "* ins_nprepay_ratio : $\\frac{number\\ of\\ times\\ the\\ applicants\\ pay\\ before\\ due}{Total\\ number\\ of\\ payments}$\n",
        "* ins_tunpay_ratio : $\\frac{Sum(installment\\ amount)}{Sum(suppose\\ to\\ paid\\ installment\\ amount\\ - actual\\ paid\\  amount)} $"
      ]
    },
    {
      "cell_type": "markdown",
      "metadata": {
        "id": "minzg_cMTFeu",
        "colab_type": "text"
      },
      "source": [
        "### Credit_Card_Balance Data\n",
        "Monthly balance snapshots of previous credit cards that the applicant has with Home Credit.\n",
        "This table has one row for each month of history of every previous credit in Home Credit (consumer credit and cash loans) related to loans in our main dataset."
      ]
    },
    {
      "cell_type": "code",
      "metadata": {
        "id": "srkbJf3kbOPc",
        "colab_type": "code",
        "colab": {}
      },
      "source": [
        "#Group by SK_ID_CURR and agregate\n",
        "# Input and display the cleaned credit_card_balance dataset\n",
        "credit_balance = pd.read_csv('drive/My Drive/888/cc_card_data.csv',sep=\"\\t\")"
      ],
      "execution_count": 0,
      "outputs": []
    },
    {
      "cell_type": "code",
      "metadata": {
        "id": "twmjhYQIbZyv",
        "colab_type": "code",
        "outputId": "9efc4120-10cf-40bd-9d21-52601f2bb41d",
        "colab": {
          "base_uri": "https://localhost:8080/",
          "height": 224
        }
      },
      "source": [
        "credit_balance.head()"
      ],
      "execution_count": 0,
      "outputs": [
        {
          "output_type": "execute_result",
          "data": {
            "text/html": [
              "<div>\n",
              "<style scoped>\n",
              "    .dataframe tbody tr th:only-of-type {\n",
              "        vertical-align: middle;\n",
              "    }\n",
              "\n",
              "    .dataframe tbody tr th {\n",
              "        vertical-align: top;\n",
              "    }\n",
              "\n",
              "    .dataframe thead th {\n",
              "        text-align: right;\n",
              "    }\n",
              "</style>\n",
              "<table border=\"1\" class=\"dataframe\">\n",
              "  <thead>\n",
              "    <tr style=\"text-align: right;\">\n",
              "      <th></th>\n",
              "      <th>SK_ID_CURR</th>\n",
              "      <th>day_past_due</th>\n",
              "      <th>day_past_due_t</th>\n",
              "      <th>credit_limit</th>\n",
              "      <th>total_balance</th>\n",
              "      <th>total_payment</th>\n",
              "      <th>total_ATM_drawings</th>\n",
              "      <th>total_receviable</th>\n",
              "      <th>mini_install</th>\n",
              "    </tr>\n",
              "  </thead>\n",
              "  <tbody>\n",
              "    <tr>\n",
              "      <th>0</th>\n",
              "      <td>100006</td>\n",
              "      <td>0</td>\n",
              "      <td>0</td>\n",
              "      <td>270000.000000</td>\n",
              "      <td>0.000000</td>\n",
              "      <td>0.000000</td>\n",
              "      <td>0</td>\n",
              "      <td>0.000000</td>\n",
              "      <td>0.000000</td>\n",
              "    </tr>\n",
              "    <tr>\n",
              "      <th>1</th>\n",
              "      <td>100011</td>\n",
              "      <td>0</td>\n",
              "      <td>0</td>\n",
              "      <td>164189.189189</td>\n",
              "      <td>54482.111149</td>\n",
              "      <td>4843.064189</td>\n",
              "      <td>4</td>\n",
              "      <td>54433.179122</td>\n",
              "      <td>3902.759392</td>\n",
              "    </tr>\n",
              "    <tr>\n",
              "      <th>2</th>\n",
              "      <td>100013</td>\n",
              "      <td>1</td>\n",
              "      <td>1</td>\n",
              "      <td>131718.750000</td>\n",
              "      <td>18159.919219</td>\n",
              "      <td>7168.346250</td>\n",
              "      <td>23</td>\n",
              "      <td>18101.079844</td>\n",
              "      <td>1348.479375</td>\n",
              "    </tr>\n",
              "    <tr>\n",
              "      <th>3</th>\n",
              "      <td>100021</td>\n",
              "      <td>0</td>\n",
              "      <td>0</td>\n",
              "      <td>675000.000000</td>\n",
              "      <td>0.000000</td>\n",
              "      <td>0.000000</td>\n",
              "      <td>0</td>\n",
              "      <td>0.000000</td>\n",
              "      <td>0.000000</td>\n",
              "    </tr>\n",
              "    <tr>\n",
              "      <th>4</th>\n",
              "      <td>100023</td>\n",
              "      <td>0</td>\n",
              "      <td>0</td>\n",
              "      <td>135000.000000</td>\n",
              "      <td>0.000000</td>\n",
              "      <td>0.000000</td>\n",
              "      <td>0</td>\n",
              "      <td>0.000000</td>\n",
              "      <td>0.000000</td>\n",
              "    </tr>\n",
              "  </tbody>\n",
              "</table>\n",
              "</div>"
            ],
            "text/plain": [
              "   SK_ID_CURR  day_past_due  ...  total_receviable  mini_install\n",
              "0      100006             0  ...          0.000000      0.000000\n",
              "1      100011             0  ...      54433.179122   3902.759392\n",
              "2      100013             1  ...      18101.079844   1348.479375\n",
              "3      100021             0  ...          0.000000      0.000000\n",
              "4      100023             0  ...          0.000000      0.000000\n",
              "\n",
              "[5 rows x 9 columns]"
            ]
          },
          "metadata": {
            "tags": []
          },
          "execution_count": 41
        }
      ]
    },
    {
      "cell_type": "markdown",
      "metadata": {
        "id": "yVkB5IhrbpUY",
        "colab_type": "text"
      },
      "source": [
        "* SK_ID_CURR\t:  ID of loan, key to join back to main dataset\n",
        "* day_past_due_t : total count of past due month (with tolerance)\n",
        "* credit_limit : mean(AMT_CREDIT_LIMIT_ACTUAL)\n",
        "* total_balance : mean(AMT_BALANCE)\n",
        "* total_payment : mean(AMT_PAYMENT_CURRENT)\n",
        "* total_AMT_drawing: sum()"
      ]
    },
    {
      "cell_type": "markdown",
      "metadata": {
        "id": "EgFS-675RDTX",
        "colab_type": "text"
      },
      "source": [
        "### Bureau Data\n",
        "All client's previous credits provided by other financial institutions that were reported to Credit Bureau (for clients who have a loan in our sample).\n",
        "\n",
        "Each row is aggregated by SK_ID_CURR"
      ]
    },
    {
      "cell_type": "code",
      "metadata": {
        "id": "3LQAqVWWW8XS",
        "colab_type": "code",
        "colab": {}
      },
      "source": [
        "### SQL code for future edit\n",
        "# SELECT *\n",
        "# FROM (\n",
        "#   SELECT\n",
        "#     SK_ID_CURR,\n",
        "#     COUNT(SK_ID_CURR) bureau_record_number,\n",
        "#     ROUND(SUM(AMT_CREDIT_SUM_DEBT) / (SUM(AMT_CREDIT_SUM) + 0.0001), 4) bureau_debt_credit_ratio,\n",
        "#     COALESCE(ROUND(SUM(AMT_CREDIT_MAX_OVERDUE), 2),\n",
        "#       0) bureau_credit_amount_sum_overdue,\n",
        "#     COALESCE( SUM(CREDIT_DAY_OVERDUE),\n",
        "#       0) bureau_credit_days_sum_overdue,\n",
        "#     ROUND(AVG(DAYS_CREDIT), 0) bureau_average_days_credit,\n",
        "#   FROM `ba888-team7.Original_dataset.bureau`\n",
        "#   WHERE SK_ID_CURR IN (\n",
        "#     SELECT SK_ID_CURR\n",
        "#     FROM `ba888-team7.Original_dataset.application_train`)\n",
        "#     AND CREDIT_CURRENCY = 'currency 1'\n",
        "#   GROUP BY SK_ID_CURR)\n",
        "# LEFT JOIN (\n",
        "#   SELECT\n",
        "#     SK_ID_CURR,\n",
        "#     MAX(DAYS_CREDIT) bureau_mostrecent_days_credit\n",
        "#   FROM `ba888-team7.Original_dataset.bureau`\n",
        "#   WHERE CREDIT_ACTIVE = 'Active'\n",
        "#   GROUP BY SK_ID_CURR)\n",
        "# USING (SK_ID_CURR)\n",
        "# ORDER BY SK_ID_CURR"
      ],
      "execution_count": 0,
      "outputs": []
    },
    {
      "cell_type": "code",
      "metadata": {
        "id": "mifnbTwPTSK9",
        "colab_type": "code",
        "colab": {}
      },
      "source": [
        "# Group by SK_ID_CURR and aggregate\n",
        "# Input and display the cleaned bureau dataset\n",
        "bureau= pd.read_csv('drive/My Drive/888/bureau.csv')"
      ],
      "execution_count": 0,
      "outputs": []
    },
    {
      "cell_type": "code",
      "metadata": {
        "id": "hHuKKwc6Tdpl",
        "colab_type": "code",
        "outputId": "ff208d8f-d560-4a61-b0f1-f694b09ab55e",
        "colab": {
          "base_uri": "https://localhost:8080/",
          "height": 224
        }
      },
      "source": [
        "bureau.head()"
      ],
      "execution_count": 0,
      "outputs": [
        {
          "output_type": "execute_result",
          "data": {
            "text/html": [
              "<div>\n",
              "<style scoped>\n",
              "    .dataframe tbody tr th:only-of-type {\n",
              "        vertical-align: middle;\n",
              "    }\n",
              "\n",
              "    .dataframe tbody tr th {\n",
              "        vertical-align: top;\n",
              "    }\n",
              "\n",
              "    .dataframe thead th {\n",
              "        text-align: right;\n",
              "    }\n",
              "</style>\n",
              "<table border=\"1\" class=\"dataframe\">\n",
              "  <thead>\n",
              "    <tr style=\"text-align: right;\">\n",
              "      <th></th>\n",
              "      <th>SK_ID_CURR</th>\n",
              "      <th>bureau_record_number</th>\n",
              "      <th>bureau_debt_credit_ratio</th>\n",
              "      <th>bureau_credit_amount_sum_overdue</th>\n",
              "      <th>bureau_credit_days_sum_overdue</th>\n",
              "      <th>bureau_average_days_credit</th>\n",
              "      <th>bureau_mostrecent_days_credit</th>\n",
              "    </tr>\n",
              "  </thead>\n",
              "  <tbody>\n",
              "    <tr>\n",
              "      <th>0</th>\n",
              "      <td>100002</td>\n",
              "      <td>8</td>\n",
              "      <td>0.2841</td>\n",
              "      <td>8405.15</td>\n",
              "      <td>0</td>\n",
              "      <td>-874</td>\n",
              "      <td>-103.0</td>\n",
              "    </tr>\n",
              "    <tr>\n",
              "      <th>1</th>\n",
              "      <td>100003</td>\n",
              "      <td>4</td>\n",
              "      <td>0.0000</td>\n",
              "      <td>0.00</td>\n",
              "      <td>0</td>\n",
              "      <td>-1401</td>\n",
              "      <td>-606.0</td>\n",
              "    </tr>\n",
              "    <tr>\n",
              "      <th>2</th>\n",
              "      <td>100004</td>\n",
              "      <td>2</td>\n",
              "      <td>0.0000</td>\n",
              "      <td>0.00</td>\n",
              "      <td>0</td>\n",
              "      <td>-867</td>\n",
              "      <td>NaN</td>\n",
              "    </tr>\n",
              "    <tr>\n",
              "      <th>3</th>\n",
              "      <td>100007</td>\n",
              "      <td>1</td>\n",
              "      <td>0.0000</td>\n",
              "      <td>0.00</td>\n",
              "      <td>0</td>\n",
              "      <td>-1149</td>\n",
              "      <td>NaN</td>\n",
              "    </tr>\n",
              "    <tr>\n",
              "      <th>4</th>\n",
              "      <td>100008</td>\n",
              "      <td>3</td>\n",
              "      <td>0.5125</td>\n",
              "      <td>0.00</td>\n",
              "      <td>0</td>\n",
              "      <td>-757</td>\n",
              "      <td>-78.0</td>\n",
              "    </tr>\n",
              "  </tbody>\n",
              "</table>\n",
              "</div>"
            ],
            "text/plain": [
              "   SK_ID_CURR  ...  bureau_mostrecent_days_credit\n",
              "0      100002  ...                         -103.0\n",
              "1      100003  ...                         -606.0\n",
              "2      100004  ...                            NaN\n",
              "3      100007  ...                            NaN\n",
              "4      100008  ...                          -78.0\n",
              "\n",
              "[5 rows x 7 columns]"
            ]
          },
          "metadata": {
            "tags": []
          },
          "execution_count": 15
        }
      ]
    },
    {
      "cell_type": "markdown",
      "metadata": {
        "id": "sMIl8OyJUZTq",
        "colab_type": "text"
      },
      "source": [
        "* SK_ID_CURR\t:  ID of loan, key to join back to main dataset\n",
        "* bureau_record_number: The number of records provided by other financial institutions that were reported to Credit Bureau\n",
        "* bureau_debt_credit_ratio : $\\frac{sum\\  of\\  debt}{sum\\  of\\  all\\  credit}$  Note: to avoid error, here we add a small amount to denominator \n",
        "* bureau_credit_amount_sum_overdue: The sum of amount overdue reported to Credit Bureau\n",
        "* bureau_credit_days_sum_overdue: The number of total days overdue reported to Credit Bureau\n",
        "* bureau_average_days_credit: the average days for all loans record reported to Credit Bureau\n",
        "* bureau_mostrecent_days_credit: From the active loans in bureau, the most recent DAYS CREDIT value. NaN means no active loans now\n"
      ]
    },
    {
      "cell_type": "markdown",
      "metadata": {
        "id": "bv3Jldx7dKW4",
        "colab_type": "text"
      },
      "source": [
        "### previous_application Data"
      ]
    },
    {
      "cell_type": "code",
      "metadata": {
        "id": "d6bHkfHkdQsg",
        "colab_type": "code",
        "colab": {}
      },
      "source": [
        "#Group by SK_ID_CURR and agregate\n",
        "# Input and display the cleaned credit_card_balance dataset\n",
        "previous_application = pd.read_csv('drive/My Drive/888/previous_application.csv')"
      ],
      "execution_count": 0,
      "outputs": []
    },
    {
      "cell_type": "code",
      "metadata": {
        "id": "jPbyJJ38dr4S",
        "colab_type": "code",
        "outputId": "e3fd9d11-42d0-4094-c672-6e59697f8179",
        "colab": {
          "base_uri": "https://localhost:8080/",
          "height": 235
        }
      },
      "source": [
        "previous_application.head(6)"
      ],
      "execution_count": 0,
      "outputs": [
        {
          "output_type": "execute_result",
          "data": {
            "text/html": [
              "<div>\n",
              "<style scoped>\n",
              "    .dataframe tbody tr th:only-of-type {\n",
              "        vertical-align: middle;\n",
              "    }\n",
              "\n",
              "    .dataframe tbody tr th {\n",
              "        vertical-align: top;\n",
              "    }\n",
              "\n",
              "    .dataframe thead th {\n",
              "        text-align: right;\n",
              "    }\n",
              "</style>\n",
              "<table border=\"1\" class=\"dataframe\">\n",
              "  <thead>\n",
              "    <tr style=\"text-align: right;\">\n",
              "      <th></th>\n",
              "      <th>SK_ID_CURR</th>\n",
              "      <th>reject_ratio</th>\n",
              "      <th>avg_approved_amt</th>\n",
              "    </tr>\n",
              "  </thead>\n",
              "  <tbody>\n",
              "    <tr>\n",
              "      <th>0</th>\n",
              "      <td>100001</td>\n",
              "      <td>0.000000</td>\n",
              "      <td>23787.0</td>\n",
              "    </tr>\n",
              "    <tr>\n",
              "      <th>1</th>\n",
              "      <td>100002</td>\n",
              "      <td>0.000000</td>\n",
              "      <td>179055.0</td>\n",
              "    </tr>\n",
              "    <tr>\n",
              "      <th>2</th>\n",
              "      <td>100003</td>\n",
              "      <td>0.000000</td>\n",
              "      <td>484191.0</td>\n",
              "    </tr>\n",
              "    <tr>\n",
              "      <th>3</th>\n",
              "      <td>100004</td>\n",
              "      <td>0.000000</td>\n",
              "      <td>20106.0</td>\n",
              "    </tr>\n",
              "    <tr>\n",
              "      <th>4</th>\n",
              "      <td>100005</td>\n",
              "      <td>0.000000</td>\n",
              "      <td>40153.5</td>\n",
              "    </tr>\n",
              "    <tr>\n",
              "      <th>5</th>\n",
              "      <td>100006</td>\n",
              "      <td>0.111111</td>\n",
              "      <td>343728.9</td>\n",
              "    </tr>\n",
              "  </tbody>\n",
              "</table>\n",
              "</div>"
            ],
            "text/plain": [
              "   SK_ID_CURR  reject_ratio  avg_approved_amt\n",
              "0      100001      0.000000           23787.0\n",
              "1      100002      0.000000          179055.0\n",
              "2      100003      0.000000          484191.0\n",
              "3      100004      0.000000           20106.0\n",
              "4      100005      0.000000           40153.5\n",
              "5      100006      0.111111          343728.9"
            ]
          },
          "metadata": {
            "tags": []
          },
          "execution_count": 44
        }
      ]
    },
    {
      "cell_type": "markdown",
      "metadata": {
        "id": "yWsD-DcqdwzP",
        "colab_type": "text"
      },
      "source": [
        "* SK_ID_CURR : ID of loan, key to join back to main dataset\n",
        "* Avg_amt : the average loan amount of the applicant's previous loan application that have been approved\n",
        "* reject_ratio: $\\frac{total\\  number\\  of\\  rejection}{total\\  number\\  of\\  loan\\  applications}$ "
      ]
    },
    {
      "cell_type": "markdown",
      "metadata": {
        "id": "CSsKO7cxb4NP",
        "colab_type": "text"
      },
      "source": [
        "### Merge the data\n",
        "In this step, we merge all the datasets together using the merge function in Python."
      ]
    },
    {
      "cell_type": "markdown",
      "metadata": {
        "id": "R7m3z1TZiEoa",
        "colab_type": "text"
      },
      "source": [
        "#### left join"
      ]
    },
    {
      "cell_type": "code",
      "metadata": {
        "id": "7sF0-Kmtc3pD",
        "colab_type": "code",
        "colab": {}
      },
      "source": [
        "df2 = df.merge(bureau, how=\"left\", on=\"SK_ID_CURR\")"
      ],
      "execution_count": 0,
      "outputs": []
    },
    {
      "cell_type": "code",
      "metadata": {
        "id": "IQhE4g4qdBrL",
        "colab_type": "code",
        "colab": {}
      },
      "source": [
        "df2 = df2.merge(credit_balance, how=\"left\", on=\"SK_ID_CURR\")"
      ],
      "execution_count": 0,
      "outputs": []
    },
    {
      "cell_type": "code",
      "metadata": {
        "id": "BZbEzGuudOU4",
        "colab_type": "code",
        "colab": {}
      },
      "source": [
        "df2 = df2.merge(install_pay, how=\"left\", on=\"SK_ID_CURR\")"
      ],
      "execution_count": 0,
      "outputs": []
    },
    {
      "cell_type": "code",
      "metadata": {
        "id": "aOoUznWHdPo-",
        "colab_type": "code",
        "colab": {}
      },
      "source": [
        "df2 = df2.merge(pos_cash, how=\"left\", on=\"SK_ID_CURR\")"
      ],
      "execution_count": 0,
      "outputs": []
    },
    {
      "cell_type": "code",
      "metadata": {
        "id": "8tGd_itKdRZl",
        "colab_type": "code",
        "colab": {}
      },
      "source": [
        "df2 = df2.merge(previous_application, how=\"left\", on=\"SK_ID_CURR\")"
      ],
      "execution_count": 0,
      "outputs": []
    },
    {
      "cell_type": "code",
      "metadata": {
        "id": "huS3xWVbk-IY",
        "colab_type": "code",
        "outputId": "a74b3935-311f-4bf6-fbc1-ee7c5f01cc46",
        "colab": {
          "base_uri": "https://localhost:8080/",
          "height": 270
        }
      },
      "source": [
        "df2.head()"
      ],
      "execution_count": 0,
      "outputs": [
        {
          "output_type": "execute_result",
          "data": {
            "text/html": [
              "<div>\n",
              "<style scoped>\n",
              "    .dataframe tbody tr th:only-of-type {\n",
              "        vertical-align: middle;\n",
              "    }\n",
              "\n",
              "    .dataframe tbody tr th {\n",
              "        vertical-align: top;\n",
              "    }\n",
              "\n",
              "    .dataframe thead th {\n",
              "        text-align: right;\n",
              "    }\n",
              "</style>\n",
              "<table border=\"1\" class=\"dataframe\">\n",
              "  <thead>\n",
              "    <tr style=\"text-align: right;\">\n",
              "      <th></th>\n",
              "      <th>Unnamed: 0</th>\n",
              "      <th>SK_ID_CURR</th>\n",
              "      <th>TARGET</th>\n",
              "      <th>NAME_CONTRACT_TYPE.Revolving.loans</th>\n",
              "      <th>CODE_GENDER.M</th>\n",
              "      <th>FLAG_OWN_CAR.Y</th>\n",
              "      <th>FLAG_OWN_REALTY.Y</th>\n",
              "      <th>CNT_CHILDREN</th>\n",
              "      <th>AMT_INCOME_TOTAL</th>\n",
              "      <th>AMT_CREDIT</th>\n",
              "      <th>AMT_ANNUITY</th>\n",
              "      <th>AMT_GOODS_PRICE</th>\n",
              "      <th>NAME_TYPE_SUITE.Family</th>\n",
              "      <th>NAME_TYPE_SUITE.Group.of.people</th>\n",
              "      <th>NAME_TYPE_SUITE.Not.Provided</th>\n",
              "      <th>NAME_TYPE_SUITE.Other_A</th>\n",
              "      <th>NAME_TYPE_SUITE.Other_B</th>\n",
              "      <th>NAME_TYPE_SUITE.Spouse..partner</th>\n",
              "      <th>NAME_TYPE_SUITE.Unaccompanied</th>\n",
              "      <th>NAME_INCOME_TYPE.Commercial.associate</th>\n",
              "      <th>NAME_INCOME_TYPE.Maternity.leave</th>\n",
              "      <th>NAME_INCOME_TYPE.Pensioner</th>\n",
              "      <th>NAME_INCOME_TYPE.State.servant</th>\n",
              "      <th>NAME_INCOME_TYPE.Student</th>\n",
              "      <th>NAME_INCOME_TYPE.Unemployed</th>\n",
              "      <th>NAME_INCOME_TYPE.Working</th>\n",
              "      <th>NAME_EDUCATION_TYPE.Higher.education</th>\n",
              "      <th>NAME_EDUCATION_TYPE.Incomplete.higher</th>\n",
              "      <th>NAME_EDUCATION_TYPE.Lower.secondary</th>\n",
              "      <th>NAME_EDUCATION_TYPE.Secondary...secondary.special</th>\n",
              "      <th>NAME_FAMILY_STATUS.Married</th>\n",
              "      <th>NAME_FAMILY_STATUS.Separated</th>\n",
              "      <th>NAME_FAMILY_STATUS.Single...not.married</th>\n",
              "      <th>NAME_FAMILY_STATUS.Widow</th>\n",
              "      <th>NAME_HOUSING_TYPE.House...apartment</th>\n",
              "      <th>NAME_HOUSING_TYPE.Municipal.apartment</th>\n",
              "      <th>NAME_HOUSING_TYPE.Office.apartment</th>\n",
              "      <th>NAME_HOUSING_TYPE.Rented.apartment</th>\n",
              "      <th>NAME_HOUSING_TYPE.With.parents</th>\n",
              "      <th>REGION_POPULATION_RELATIVE</th>\n",
              "      <th>...</th>\n",
              "      <th>ORGANIZATION_TYPE.Telecom</th>\n",
              "      <th>ORGANIZATION_TYPE.Trade..type.1</th>\n",
              "      <th>ORGANIZATION_TYPE.Trade..type.2</th>\n",
              "      <th>ORGANIZATION_TYPE.Trade..type.3</th>\n",
              "      <th>ORGANIZATION_TYPE.Trade..type.4</th>\n",
              "      <th>ORGANIZATION_TYPE.Trade..type.5</th>\n",
              "      <th>ORGANIZATION_TYPE.Trade..type.6</th>\n",
              "      <th>ORGANIZATION_TYPE.Trade..type.7</th>\n",
              "      <th>ORGANIZATION_TYPE.Transport..type.1</th>\n",
              "      <th>ORGANIZATION_TYPE.Transport..type.2</th>\n",
              "      <th>ORGANIZATION_TYPE.Transport..type.3</th>\n",
              "      <th>ORGANIZATION_TYPE.Transport..type.4</th>\n",
              "      <th>ORGANIZATION_TYPE.University</th>\n",
              "      <th>EXT_SOURCE_2</th>\n",
              "      <th>EXT_SOURCE_3</th>\n",
              "      <th>DAYS_LAST_PHONE_CHANGE</th>\n",
              "      <th>AMT_REQ_CREDIT_BUREAU_WEEK</th>\n",
              "      <th>AMT_REQ_CREDIT_BUREAU_YEAR</th>\n",
              "      <th>TRAIN</th>\n",
              "      <th>bureau_record_number</th>\n",
              "      <th>bureau_debt_credit_ratio</th>\n",
              "      <th>bureau_credit_amount_sum_overdue</th>\n",
              "      <th>bureau_credit_days_sum_overdue</th>\n",
              "      <th>bureau_average_days_credit</th>\n",
              "      <th>bureau_mostrecent_days_credit</th>\n",
              "      <th>day_past_due</th>\n",
              "      <th>day_past_due_t</th>\n",
              "      <th>credit_limit</th>\n",
              "      <th>total_balance</th>\n",
              "      <th>total_payment</th>\n",
              "      <th>total_ATM_drawings</th>\n",
              "      <th>total_receviable</th>\n",
              "      <th>mini_install</th>\n",
              "      <th>NUM_PREV</th>\n",
              "      <th>AVG_PASS_DUE_INS</th>\n",
              "      <th>ins_nprepay_ratio</th>\n",
              "      <th>ins_tunpay_ratio</th>\n",
              "      <th>defalut_rate_POS</th>\n",
              "      <th>reject_ratio</th>\n",
              "      <th>avg_approved_amt</th>\n",
              "    </tr>\n",
              "  </thead>\n",
              "  <tbody>\n",
              "    <tr>\n",
              "      <th>0</th>\n",
              "      <td>2</td>\n",
              "      <td>100031.0</td>\n",
              "      <td>1</td>\n",
              "      <td>0</td>\n",
              "      <td>0</td>\n",
              "      <td>0</td>\n",
              "      <td>1</td>\n",
              "      <td>0</td>\n",
              "      <td>112500.0</td>\n",
              "      <td>979992.0</td>\n",
              "      <td>27076.5</td>\n",
              "      <td>702000.0</td>\n",
              "      <td>0</td>\n",
              "      <td>0</td>\n",
              "      <td>0</td>\n",
              "      <td>0</td>\n",
              "      <td>0</td>\n",
              "      <td>0</td>\n",
              "      <td>1</td>\n",
              "      <td>0</td>\n",
              "      <td>0</td>\n",
              "      <td>0</td>\n",
              "      <td>0</td>\n",
              "      <td>0</td>\n",
              "      <td>0</td>\n",
              "      <td>1</td>\n",
              "      <td>0</td>\n",
              "      <td>0</td>\n",
              "      <td>0</td>\n",
              "      <td>1</td>\n",
              "      <td>0</td>\n",
              "      <td>0</td>\n",
              "      <td>0</td>\n",
              "      <td>1</td>\n",
              "      <td>1</td>\n",
              "      <td>0</td>\n",
              "      <td>0</td>\n",
              "      <td>0</td>\n",
              "      <td>0</td>\n",
              "      <td>0.018029</td>\n",
              "      <td>...</td>\n",
              "      <td>0</td>\n",
              "      <td>0</td>\n",
              "      <td>0</td>\n",
              "      <td>0</td>\n",
              "      <td>0</td>\n",
              "      <td>0</td>\n",
              "      <td>0</td>\n",
              "      <td>0</td>\n",
              "      <td>0</td>\n",
              "      <td>0</td>\n",
              "      <td>0</td>\n",
              "      <td>0</td>\n",
              "      <td>0</td>\n",
              "      <td>0.548477</td>\n",
              "      <td>0.190706</td>\n",
              "      <td>-161</td>\n",
              "      <td>0</td>\n",
              "      <td>2</td>\n",
              "      <td>1</td>\n",
              "      <td>7.0</td>\n",
              "      <td>0.2833</td>\n",
              "      <td>0.00</td>\n",
              "      <td>0.0</td>\n",
              "      <td>-580.0</td>\n",
              "      <td>-75.0</td>\n",
              "      <td>NaN</td>\n",
              "      <td>NaN</td>\n",
              "      <td>NaN</td>\n",
              "      <td>NaN</td>\n",
              "      <td>NaN</td>\n",
              "      <td>NaN</td>\n",
              "      <td>NaN</td>\n",
              "      <td>NaN</td>\n",
              "      <td>NaN</td>\n",
              "      <td>NaN</td>\n",
              "      <td>NaN</td>\n",
              "      <td>NaN</td>\n",
              "      <td>NaN</td>\n",
              "      <td>NaN</td>\n",
              "      <td>NaN</td>\n",
              "    </tr>\n",
              "    <tr>\n",
              "      <th>1</th>\n",
              "      <td>3</td>\n",
              "      <td>100047.0</td>\n",
              "      <td>1</td>\n",
              "      <td>0</td>\n",
              "      <td>1</td>\n",
              "      <td>0</td>\n",
              "      <td>1</td>\n",
              "      <td>0</td>\n",
              "      <td>202500.0</td>\n",
              "      <td>1193580.0</td>\n",
              "      <td>35028.0</td>\n",
              "      <td>855000.0</td>\n",
              "      <td>0</td>\n",
              "      <td>0</td>\n",
              "      <td>0</td>\n",
              "      <td>0</td>\n",
              "      <td>0</td>\n",
              "      <td>0</td>\n",
              "      <td>1</td>\n",
              "      <td>1</td>\n",
              "      <td>0</td>\n",
              "      <td>0</td>\n",
              "      <td>0</td>\n",
              "      <td>0</td>\n",
              "      <td>0</td>\n",
              "      <td>0</td>\n",
              "      <td>0</td>\n",
              "      <td>0</td>\n",
              "      <td>0</td>\n",
              "      <td>1</td>\n",
              "      <td>1</td>\n",
              "      <td>0</td>\n",
              "      <td>0</td>\n",
              "      <td>0</td>\n",
              "      <td>1</td>\n",
              "      <td>0</td>\n",
              "      <td>0</td>\n",
              "      <td>0</td>\n",
              "      <td>0</td>\n",
              "      <td>0.025164</td>\n",
              "      <td>...</td>\n",
              "      <td>0</td>\n",
              "      <td>0</td>\n",
              "      <td>0</td>\n",
              "      <td>0</td>\n",
              "      <td>0</td>\n",
              "      <td>0</td>\n",
              "      <td>0</td>\n",
              "      <td>0</td>\n",
              "      <td>0</td>\n",
              "      <td>0</td>\n",
              "      <td>0</td>\n",
              "      <td>0</td>\n",
              "      <td>0</td>\n",
              "      <td>0.306841</td>\n",
              "      <td>0.320163</td>\n",
              "      <td>-1075</td>\n",
              "      <td>0</td>\n",
              "      <td>4</td>\n",
              "      <td>1</td>\n",
              "      <td>5.0</td>\n",
              "      <td>0.3380</td>\n",
              "      <td>13518.67</td>\n",
              "      <td>0.0</td>\n",
              "      <td>-1105.0</td>\n",
              "      <td>-420.0</td>\n",
              "      <td>0.0</td>\n",
              "      <td>0.0</td>\n",
              "      <td>326250.000000</td>\n",
              "      <td>0.000000</td>\n",
              "      <td>0.000000</td>\n",
              "      <td>0.0</td>\n",
              "      <td>0.000000</td>\n",
              "      <td>0.000000</td>\n",
              "      <td>2.0</td>\n",
              "      <td>-4.100000</td>\n",
              "      <td>1.000000</td>\n",
              "      <td>0.000000</td>\n",
              "      <td>0.0</td>\n",
              "      <td>0.333333</td>\n",
              "      <td>272971.125</td>\n",
              "    </tr>\n",
              "    <tr>\n",
              "      <th>2</th>\n",
              "      <td>4</td>\n",
              "      <td>100049.0</td>\n",
              "      <td>1</td>\n",
              "      <td>0</td>\n",
              "      <td>0</td>\n",
              "      <td>0</td>\n",
              "      <td>0</td>\n",
              "      <td>0</td>\n",
              "      <td>135000.0</td>\n",
              "      <td>288873.0</td>\n",
              "      <td>16258.5</td>\n",
              "      <td>238500.0</td>\n",
              "      <td>0</td>\n",
              "      <td>0</td>\n",
              "      <td>0</td>\n",
              "      <td>0</td>\n",
              "      <td>0</td>\n",
              "      <td>0</td>\n",
              "      <td>1</td>\n",
              "      <td>0</td>\n",
              "      <td>0</td>\n",
              "      <td>0</td>\n",
              "      <td>0</td>\n",
              "      <td>0</td>\n",
              "      <td>0</td>\n",
              "      <td>1</td>\n",
              "      <td>0</td>\n",
              "      <td>0</td>\n",
              "      <td>0</td>\n",
              "      <td>1</td>\n",
              "      <td>0</td>\n",
              "      <td>0</td>\n",
              "      <td>0</td>\n",
              "      <td>0</td>\n",
              "      <td>1</td>\n",
              "      <td>0</td>\n",
              "      <td>0</td>\n",
              "      <td>0</td>\n",
              "      <td>0</td>\n",
              "      <td>0.007305</td>\n",
              "      <td>...</td>\n",
              "      <td>0</td>\n",
              "      <td>0</td>\n",
              "      <td>0</td>\n",
              "      <td>0</td>\n",
              "      <td>0</td>\n",
              "      <td>0</td>\n",
              "      <td>0</td>\n",
              "      <td>0</td>\n",
              "      <td>0</td>\n",
              "      <td>0</td>\n",
              "      <td>0</td>\n",
              "      <td>0</td>\n",
              "      <td>0</td>\n",
              "      <td>0.674203</td>\n",
              "      <td>0.399676</td>\n",
              "      <td>-1480</td>\n",
              "      <td>0</td>\n",
              "      <td>2</td>\n",
              "      <td>1</td>\n",
              "      <td>7.0</td>\n",
              "      <td>0.6486</td>\n",
              "      <td>0.00</td>\n",
              "      <td>0.0</td>\n",
              "      <td>-819.0</td>\n",
              "      <td>-27.0</td>\n",
              "      <td>0.0</td>\n",
              "      <td>0.0</td>\n",
              "      <td>100384.615385</td>\n",
              "      <td>48183.296538</td>\n",
              "      <td>2672.044615</td>\n",
              "      <td>7.0</td>\n",
              "      <td>47632.565769</td>\n",
              "      <td>1703.173846</td>\n",
              "      <td>5.0</td>\n",
              "      <td>-6.068966</td>\n",
              "      <td>0.931034</td>\n",
              "      <td>0.055204</td>\n",
              "      <td>0.0</td>\n",
              "      <td>0.000000</td>\n",
              "      <td>55715.400</td>\n",
              "    </tr>\n",
              "    <tr>\n",
              "      <th>3</th>\n",
              "      <td>5</td>\n",
              "      <td>100096.0</td>\n",
              "      <td>1</td>\n",
              "      <td>0</td>\n",
              "      <td>0</td>\n",
              "      <td>0</td>\n",
              "      <td>1</td>\n",
              "      <td>0</td>\n",
              "      <td>81000.0</td>\n",
              "      <td>252000.0</td>\n",
              "      <td>14593.5</td>\n",
              "      <td>252000.0</td>\n",
              "      <td>0</td>\n",
              "      <td>0</td>\n",
              "      <td>0</td>\n",
              "      <td>0</td>\n",
              "      <td>0</td>\n",
              "      <td>0</td>\n",
              "      <td>1</td>\n",
              "      <td>0</td>\n",
              "      <td>0</td>\n",
              "      <td>1</td>\n",
              "      <td>0</td>\n",
              "      <td>0</td>\n",
              "      <td>0</td>\n",
              "      <td>0</td>\n",
              "      <td>0</td>\n",
              "      <td>0</td>\n",
              "      <td>0</td>\n",
              "      <td>1</td>\n",
              "      <td>1</td>\n",
              "      <td>0</td>\n",
              "      <td>0</td>\n",
              "      <td>0</td>\n",
              "      <td>1</td>\n",
              "      <td>0</td>\n",
              "      <td>0</td>\n",
              "      <td>0</td>\n",
              "      <td>0</td>\n",
              "      <td>0.028663</td>\n",
              "      <td>...</td>\n",
              "      <td>0</td>\n",
              "      <td>0</td>\n",
              "      <td>0</td>\n",
              "      <td>0</td>\n",
              "      <td>0</td>\n",
              "      <td>0</td>\n",
              "      <td>0</td>\n",
              "      <td>0</td>\n",
              "      <td>0</td>\n",
              "      <td>0</td>\n",
              "      <td>0</td>\n",
              "      <td>0</td>\n",
              "      <td>0</td>\n",
              "      <td>0.023952</td>\n",
              "      <td>0.720944</td>\n",
              "      <td>0</td>\n",
              "      <td>0</td>\n",
              "      <td>0</td>\n",
              "      <td>1</td>\n",
              "      <td>1.0</td>\n",
              "      <td>NaN</td>\n",
              "      <td>0.00</td>\n",
              "      <td>0.0</td>\n",
              "      <td>-2922.0</td>\n",
              "      <td>NaN</td>\n",
              "      <td>NaN</td>\n",
              "      <td>NaN</td>\n",
              "      <td>NaN</td>\n",
              "      <td>NaN</td>\n",
              "      <td>NaN</td>\n",
              "      <td>NaN</td>\n",
              "      <td>NaN</td>\n",
              "      <td>NaN</td>\n",
              "      <td>NaN</td>\n",
              "      <td>NaN</td>\n",
              "      <td>NaN</td>\n",
              "      <td>NaN</td>\n",
              "      <td>NaN</td>\n",
              "      <td>NaN</td>\n",
              "      <td>NaN</td>\n",
              "    </tr>\n",
              "    <tr>\n",
              "      <th>4</th>\n",
              "      <td>6</td>\n",
              "      <td>100112.0</td>\n",
              "      <td>1</td>\n",
              "      <td>0</td>\n",
              "      <td>1</td>\n",
              "      <td>1</td>\n",
              "      <td>1</td>\n",
              "      <td>0</td>\n",
              "      <td>315000.0</td>\n",
              "      <td>953460.0</td>\n",
              "      <td>64107.0</td>\n",
              "      <td>900000.0</td>\n",
              "      <td>1</td>\n",
              "      <td>0</td>\n",
              "      <td>0</td>\n",
              "      <td>0</td>\n",
              "      <td>0</td>\n",
              "      <td>0</td>\n",
              "      <td>0</td>\n",
              "      <td>1</td>\n",
              "      <td>0</td>\n",
              "      <td>0</td>\n",
              "      <td>0</td>\n",
              "      <td>0</td>\n",
              "      <td>0</td>\n",
              "      <td>0</td>\n",
              "      <td>0</td>\n",
              "      <td>1</td>\n",
              "      <td>0</td>\n",
              "      <td>0</td>\n",
              "      <td>0</td>\n",
              "      <td>0</td>\n",
              "      <td>1</td>\n",
              "      <td>0</td>\n",
              "      <td>0</td>\n",
              "      <td>0</td>\n",
              "      <td>0</td>\n",
              "      <td>0</td>\n",
              "      <td>1</td>\n",
              "      <td>0.030755</td>\n",
              "      <td>...</td>\n",
              "      <td>0</td>\n",
              "      <td>0</td>\n",
              "      <td>0</td>\n",
              "      <td>0</td>\n",
              "      <td>0</td>\n",
              "      <td>0</td>\n",
              "      <td>0</td>\n",
              "      <td>0</td>\n",
              "      <td>0</td>\n",
              "      <td>0</td>\n",
              "      <td>0</td>\n",
              "      <td>0</td>\n",
              "      <td>0</td>\n",
              "      <td>0.432340</td>\n",
              "      <td>0.077499</td>\n",
              "      <td>-591</td>\n",
              "      <td>0</td>\n",
              "      <td>2</td>\n",
              "      <td>1</td>\n",
              "      <td>2.0</td>\n",
              "      <td>0.6563</td>\n",
              "      <td>0.00</td>\n",
              "      <td>0.0</td>\n",
              "      <td>-288.0</td>\n",
              "      <td>-271.0</td>\n",
              "      <td>0.0</td>\n",
              "      <td>0.0</td>\n",
              "      <td>127058.823529</td>\n",
              "      <td>0.000000</td>\n",
              "      <td>0.000000</td>\n",
              "      <td>0.0</td>\n",
              "      <td>0.000000</td>\n",
              "      <td>0.000000</td>\n",
              "      <td>3.0</td>\n",
              "      <td>-14.450000</td>\n",
              "      <td>0.950000</td>\n",
              "      <td>-0.214515</td>\n",
              "      <td>0.0</td>\n",
              "      <td>0.000000</td>\n",
              "      <td>115589.250</td>\n",
              "    </tr>\n",
              "  </tbody>\n",
              "</table>\n",
              "<p>5 rows × 164 columns</p>\n",
              "</div>"
            ],
            "text/plain": [
              "   Unnamed: 0  SK_ID_CURR  ...  reject_ratio  avg_approved_amt\n",
              "0           2    100031.0  ...           NaN               NaN\n",
              "1           3    100047.0  ...      0.333333        272971.125\n",
              "2           4    100049.0  ...      0.000000         55715.400\n",
              "3           5    100096.0  ...           NaN               NaN\n",
              "4           6    100112.0  ...      0.000000        115589.250\n",
              "\n",
              "[5 rows x 164 columns]"
            ]
          },
          "metadata": {
            "tags": []
          },
          "execution_count": 50
        }
      ]
    },
    {
      "cell_type": "markdown",
      "metadata": {
        "id": "hdU9wimpUTJP",
        "colab_type": "text"
      },
      "source": [
        "### Deal with NA\n",
        "Since the 5 small tables are mainly focusing on applicants who might have previous loan history with Home Credit Group, there is the possibility that there are some applicants who do not have their bureau data, credit card or previous application data in Home Credit. Therefore, in this step, we are going to deal with the NA's."
      ]
    },
    {
      "cell_type": "code",
      "metadata": {
        "id": "Cu7ST_JGdYHW",
        "colab_type": "code",
        "colab": {}
      },
      "source": [
        "df2.drop(['Unnamed: 0'], axis = 1, inplace=True)"
      ],
      "execution_count": 0,
      "outputs": []
    },
    {
      "cell_type": "code",
      "metadata": {
        "id": "Gtvs6Ff6lG5-",
        "colab_type": "code",
        "outputId": "2852bc09-8327-44b6-a856-1211cd4844da",
        "colab": {
          "base_uri": "https://localhost:8080/",
          "height": 221
        }
      },
      "source": [
        "df2.dtypes"
      ],
      "execution_count": 0,
      "outputs": [
        {
          "output_type": "execute_result",
          "data": {
            "text/plain": [
              "SK_ID_CURR                            float64\n",
              "TARGET                                  int64\n",
              "NAME_CONTRACT_TYPE.Revolving.loans      int64\n",
              "CODE_GENDER.M                           int64\n",
              "FLAG_OWN_CAR.Y                          int64\n",
              "                                       ...   \n",
              "ins_nprepay_ratio                     float64\n",
              "ins_tunpay_ratio                      float64\n",
              "defalut_rate_POS                      float64\n",
              "reject_ratio                          float64\n",
              "avg_approved_amt                      float64\n",
              "Length: 163, dtype: object"
            ]
          },
          "metadata": {
            "tags": []
          },
          "execution_count": 52
        }
      ]
    },
    {
      "cell_type": "code",
      "metadata": {
        "id": "unu2KwB5diU8",
        "colab_type": "code",
        "colab": {}
      },
      "source": [
        "NAcolumn = df2.isna().sum()"
      ],
      "execution_count": 0,
      "outputs": []
    },
    {
      "cell_type": "code",
      "metadata": {
        "id": "jWrLPNW4d_1c",
        "colab_type": "code",
        "colab": {}
      },
      "source": [
        "nac = pd.DataFrame(NAcolumn[NAcolumn>0])"
      ],
      "execution_count": 0,
      "outputs": []
    },
    {
      "cell_type": "code",
      "metadata": {
        "id": "xQfi2AgBa6_k",
        "colab_type": "code",
        "colab": {}
      },
      "source": [
        "nacn=list(nac.index.values.tolist())"
      ],
      "execution_count": 0,
      "outputs": []
    },
    {
      "cell_type": "markdown",
      "metadata": {
        "id": "ny1f9LtW009m",
        "colab_type": "text"
      },
      "source": [
        "We thought that replacing 'day_past_due' with any value or simply deleting them is not an optimal option for us, we want to create a new variable name 'no_credit' that represents the applicant's previous credit history. 1 means that they have credit history and 0 means they don't."
      ]
    },
    {
      "cell_type": "code",
      "metadata": {
        "id": "if0hmD5hLhHw",
        "colab_type": "code",
        "colab": {}
      },
      "source": [
        "df2['no_credit'] = df2['day_past_due'].apply(lambda x : 1 if np.isnan(x) else 0)"
      ],
      "execution_count": 0,
      "outputs": []
    },
    {
      "cell_type": "markdown",
      "metadata": {
        "id": "f53m7NEORIbm",
        "colab_type": "text"
      },
      "source": [
        "#### k-means Cluster \n",
        "For other columns that contain NA's, we want to use KMeans to segment the customers into 2 groups because we thought the model might pick up any characteristics that could differentiate the default and non-default customers. Then, we replace the NA's with the value from the median of the cluster that the customer belongs to. "
      ]
    },
    {
      "cell_type": "code",
      "metadata": {
        "id": "nRwNrmAZOGl_",
        "colab_type": "code",
        "colab": {}
      },
      "source": [
        "x = df.iloc[:,3:] #exclude id and target columns\n",
        "\n",
        "from sklearn.cluster import KMeans\n",
        "\n",
        "# Number of clusters\n",
        "kmeans = KMeans(n_clusters=2)\n",
        "# Fitting the input data\n",
        "kmeans = kmeans.fit(x)\n",
        "# Getting the cluster labels\n",
        "labels = kmeans.predict(x)\n",
        "# Centroid values\n",
        "centroids = kmeans.cluster_centers_"
      ],
      "execution_count": 0,
      "outputs": []
    },
    {
      "cell_type": "code",
      "metadata": {
        "id": "0TzqvjTJRnyc",
        "colab_type": "code",
        "colab": {}
      },
      "source": [
        "df2['cluster'] = labels"
      ],
      "execution_count": 0,
      "outputs": []
    },
    {
      "cell_type": "code",
      "metadata": {
        "id": "KeBMRe9vaMde",
        "colab_type": "code",
        "outputId": "75f82d55-6591-4471-b779-1272c7bfff8f",
        "colab": {
          "base_uri": "https://localhost:8080/",
          "height": 241
        }
      },
      "source": [
        "dftemp = df2.loc[df2['cluster'] == 0,:]\n",
        "for i in nacn:\n",
        "  med = dftemp[i].median()\n",
        "  dftemp[i] = dftemp[i].apply(lambda x: med if np.isnan(x) else x)\n",
        "  \n",
        "dftemp1 = df2.loc[df2['cluster'] == 1,:]\n",
        "for i in nacn:\n",
        "  med = dftemp1[i].median()\n",
        "  dftemp1[i] = dftemp1[i].apply(lambda x: med if np.isnan(x) else x)\n",
        "\n",
        "\n",
        "df3 = dftemp.append([dftemp1])"
      ],
      "execution_count": 0,
      "outputs": [
        {
          "output_type": "stream",
          "text": [
            "/usr/local/lib/python3.6/dist-packages/ipykernel_launcher.py:4: SettingWithCopyWarning: \n",
            "A value is trying to be set on a copy of a slice from a DataFrame.\n",
            "Try using .loc[row_indexer,col_indexer] = value instead\n",
            "\n",
            "See the caveats in the documentation: https://pandas.pydata.org/pandas-docs/stable/user_guide/indexing.html#returning-a-view-versus-a-copy\n",
            "  after removing the cwd from sys.path.\n",
            "/usr/local/lib/python3.6/dist-packages/ipykernel_launcher.py:9: SettingWithCopyWarning: \n",
            "A value is trying to be set on a copy of a slice from a DataFrame.\n",
            "Try using .loc[row_indexer,col_indexer] = value instead\n",
            "\n",
            "See the caveats in the documentation: https://pandas.pydata.org/pandas-docs/stable/user_guide/indexing.html#returning-a-view-versus-a-copy\n",
            "  if __name__ == '__main__':\n"
          ],
          "name": "stderr"
        }
      ]
    },
    {
      "cell_type": "code",
      "metadata": {
        "id": "psB7xnTzb-CH",
        "colab_type": "code",
        "outputId": "d8183a44-1b2a-497f-9729-95e4ce9fa68a",
        "colab": {
          "base_uri": "https://localhost:8080/",
          "height": 170
        }
      },
      "source": [
        "df3.cluster.describe()"
      ],
      "execution_count": 0,
      "outputs": [
        {
          "output_type": "execute_result",
          "data": {
            "text/plain": [
              "count    244475.000000\n",
              "mean          0.643129\n",
              "std           0.479077\n",
              "min           0.000000\n",
              "25%           0.000000\n",
              "50%           1.000000\n",
              "75%           1.000000\n",
              "max           1.000000\n",
              "Name: cluster, dtype: float64"
            ]
          },
          "metadata": {
            "tags": []
          },
          "execution_count": 60
        }
      ]
    },
    {
      "cell_type": "code",
      "metadata": {
        "id": "Y0zfHLXEqUF_",
        "colab_type": "code",
        "outputId": "d7d19275-e762-4534-a79f-63c36bfb54ec",
        "colab": {
          "base_uri": "https://localhost:8080/",
          "height": 170
        }
      },
      "source": [
        "df3['TARGET'].describe()"
      ],
      "execution_count": 0,
      "outputs": [
        {
          "output_type": "execute_result",
          "data": {
            "text/plain": [
              "count    244475.000000\n",
              "mean          0.080781\n",
              "std           0.272499\n",
              "min           0.000000\n",
              "25%           0.000000\n",
              "50%           0.000000\n",
              "75%           0.000000\n",
              "max           1.000000\n",
              "Name: TARGET, dtype: float64"
            ]
          },
          "metadata": {
            "tags": []
          },
          "execution_count": 61
        }
      ]
    },
    {
      "cell_type": "code",
      "metadata": {
        "id": "lxYOJM129AZC",
        "colab_type": "code",
        "outputId": "64622a2d-e222-4471-d70d-6c3f79ebd2e6",
        "colab": {
          "base_uri": "https://localhost:8080/",
          "height": 439
        }
      },
      "source": [
        "df3"
      ],
      "execution_count": 0,
      "outputs": [
        {
          "output_type": "execute_result",
          "data": {
            "text/html": [
              "<div>\n",
              "<style scoped>\n",
              "    .dataframe tbody tr th:only-of-type {\n",
              "        vertical-align: middle;\n",
              "    }\n",
              "\n",
              "    .dataframe tbody tr th {\n",
              "        vertical-align: top;\n",
              "    }\n",
              "\n",
              "    .dataframe thead th {\n",
              "        text-align: right;\n",
              "    }\n",
              "</style>\n",
              "<table border=\"1\" class=\"dataframe\">\n",
              "  <thead>\n",
              "    <tr style=\"text-align: right;\">\n",
              "      <th></th>\n",
              "      <th>SK_ID_CURR</th>\n",
              "      <th>TARGET</th>\n",
              "      <th>NAME_CONTRACT_TYPE.Revolving.loans</th>\n",
              "      <th>CODE_GENDER.M</th>\n",
              "      <th>FLAG_OWN_CAR.Y</th>\n",
              "      <th>FLAG_OWN_REALTY.Y</th>\n",
              "      <th>CNT_CHILDREN</th>\n",
              "      <th>AMT_INCOME_TOTAL</th>\n",
              "      <th>AMT_CREDIT</th>\n",
              "      <th>AMT_ANNUITY</th>\n",
              "      <th>AMT_GOODS_PRICE</th>\n",
              "      <th>NAME_TYPE_SUITE.Family</th>\n",
              "      <th>NAME_TYPE_SUITE.Group.of.people</th>\n",
              "      <th>NAME_TYPE_SUITE.Not.Provided</th>\n",
              "      <th>NAME_TYPE_SUITE.Other_A</th>\n",
              "      <th>NAME_TYPE_SUITE.Other_B</th>\n",
              "      <th>NAME_TYPE_SUITE.Spouse..partner</th>\n",
              "      <th>NAME_TYPE_SUITE.Unaccompanied</th>\n",
              "      <th>NAME_INCOME_TYPE.Commercial.associate</th>\n",
              "      <th>NAME_INCOME_TYPE.Maternity.leave</th>\n",
              "      <th>NAME_INCOME_TYPE.Pensioner</th>\n",
              "      <th>NAME_INCOME_TYPE.State.servant</th>\n",
              "      <th>NAME_INCOME_TYPE.Student</th>\n",
              "      <th>NAME_INCOME_TYPE.Unemployed</th>\n",
              "      <th>NAME_INCOME_TYPE.Working</th>\n",
              "      <th>NAME_EDUCATION_TYPE.Higher.education</th>\n",
              "      <th>NAME_EDUCATION_TYPE.Incomplete.higher</th>\n",
              "      <th>NAME_EDUCATION_TYPE.Lower.secondary</th>\n",
              "      <th>NAME_EDUCATION_TYPE.Secondary...secondary.special</th>\n",
              "      <th>NAME_FAMILY_STATUS.Married</th>\n",
              "      <th>NAME_FAMILY_STATUS.Separated</th>\n",
              "      <th>NAME_FAMILY_STATUS.Single...not.married</th>\n",
              "      <th>NAME_FAMILY_STATUS.Widow</th>\n",
              "      <th>NAME_HOUSING_TYPE.House...apartment</th>\n",
              "      <th>NAME_HOUSING_TYPE.Municipal.apartment</th>\n",
              "      <th>NAME_HOUSING_TYPE.Office.apartment</th>\n",
              "      <th>NAME_HOUSING_TYPE.Rented.apartment</th>\n",
              "      <th>NAME_HOUSING_TYPE.With.parents</th>\n",
              "      <th>REGION_POPULATION_RELATIVE</th>\n",
              "      <th>DAYS_BIRTH</th>\n",
              "      <th>...</th>\n",
              "      <th>ORGANIZATION_TYPE.Trade..type.2</th>\n",
              "      <th>ORGANIZATION_TYPE.Trade..type.3</th>\n",
              "      <th>ORGANIZATION_TYPE.Trade..type.4</th>\n",
              "      <th>ORGANIZATION_TYPE.Trade..type.5</th>\n",
              "      <th>ORGANIZATION_TYPE.Trade..type.6</th>\n",
              "      <th>ORGANIZATION_TYPE.Trade..type.7</th>\n",
              "      <th>ORGANIZATION_TYPE.Transport..type.1</th>\n",
              "      <th>ORGANIZATION_TYPE.Transport..type.2</th>\n",
              "      <th>ORGANIZATION_TYPE.Transport..type.3</th>\n",
              "      <th>ORGANIZATION_TYPE.Transport..type.4</th>\n",
              "      <th>ORGANIZATION_TYPE.University</th>\n",
              "      <th>EXT_SOURCE_2</th>\n",
              "      <th>EXT_SOURCE_3</th>\n",
              "      <th>DAYS_LAST_PHONE_CHANGE</th>\n",
              "      <th>AMT_REQ_CREDIT_BUREAU_WEEK</th>\n",
              "      <th>AMT_REQ_CREDIT_BUREAU_YEAR</th>\n",
              "      <th>TRAIN</th>\n",
              "      <th>bureau_record_number</th>\n",
              "      <th>bureau_debt_credit_ratio</th>\n",
              "      <th>bureau_credit_amount_sum_overdue</th>\n",
              "      <th>bureau_credit_days_sum_overdue</th>\n",
              "      <th>bureau_average_days_credit</th>\n",
              "      <th>bureau_mostrecent_days_credit</th>\n",
              "      <th>day_past_due</th>\n",
              "      <th>day_past_due_t</th>\n",
              "      <th>credit_limit</th>\n",
              "      <th>total_balance</th>\n",
              "      <th>total_payment</th>\n",
              "      <th>total_ATM_drawings</th>\n",
              "      <th>total_receviable</th>\n",
              "      <th>mini_install</th>\n",
              "      <th>NUM_PREV</th>\n",
              "      <th>AVG_PASS_DUE_INS</th>\n",
              "      <th>ins_nprepay_ratio</th>\n",
              "      <th>ins_tunpay_ratio</th>\n",
              "      <th>defalut_rate_POS</th>\n",
              "      <th>reject_ratio</th>\n",
              "      <th>avg_approved_amt</th>\n",
              "      <th>no_credit</th>\n",
              "      <th>cluster</th>\n",
              "    </tr>\n",
              "  </thead>\n",
              "  <tbody>\n",
              "    <tr>\n",
              "      <th>0</th>\n",
              "      <td>100031.0</td>\n",
              "      <td>1</td>\n",
              "      <td>0</td>\n",
              "      <td>0</td>\n",
              "      <td>0</td>\n",
              "      <td>1</td>\n",
              "      <td>0</td>\n",
              "      <td>112500.0</td>\n",
              "      <td>979992.0</td>\n",
              "      <td>27076.5</td>\n",
              "      <td>702000.0</td>\n",
              "      <td>0</td>\n",
              "      <td>0</td>\n",
              "      <td>0</td>\n",
              "      <td>0</td>\n",
              "      <td>0</td>\n",
              "      <td>0</td>\n",
              "      <td>1</td>\n",
              "      <td>0</td>\n",
              "      <td>0</td>\n",
              "      <td>0</td>\n",
              "      <td>0</td>\n",
              "      <td>0</td>\n",
              "      <td>0</td>\n",
              "      <td>1</td>\n",
              "      <td>0</td>\n",
              "      <td>0</td>\n",
              "      <td>0</td>\n",
              "      <td>1</td>\n",
              "      <td>0</td>\n",
              "      <td>0</td>\n",
              "      <td>0</td>\n",
              "      <td>1</td>\n",
              "      <td>1</td>\n",
              "      <td>0</td>\n",
              "      <td>0</td>\n",
              "      <td>0</td>\n",
              "      <td>0</td>\n",
              "      <td>0.018029</td>\n",
              "      <td>51.298630</td>\n",
              "      <td>...</td>\n",
              "      <td>0</td>\n",
              "      <td>0</td>\n",
              "      <td>0</td>\n",
              "      <td>0</td>\n",
              "      <td>0</td>\n",
              "      <td>0</td>\n",
              "      <td>0</td>\n",
              "      <td>0</td>\n",
              "      <td>0</td>\n",
              "      <td>0</td>\n",
              "      <td>0</td>\n",
              "      <td>0.548477</td>\n",
              "      <td>0.190706</td>\n",
              "      <td>-161</td>\n",
              "      <td>0</td>\n",
              "      <td>2</td>\n",
              "      <td>1</td>\n",
              "      <td>7.0</td>\n",
              "      <td>0.2833</td>\n",
              "      <td>0.00</td>\n",
              "      <td>0.0</td>\n",
              "      <td>-580.0</td>\n",
              "      <td>-75.0</td>\n",
              "      <td>0.0</td>\n",
              "      <td>0.0</td>\n",
              "      <td>153600.000000</td>\n",
              "      <td>22873.642105</td>\n",
              "      <td>4635.262819</td>\n",
              "      <td>3.0</td>\n",
              "      <td>22752.610274</td>\n",
              "      <td>1523.236000</td>\n",
              "      <td>2.0</td>\n",
              "      <td>-9.407846</td>\n",
              "      <td>0.983333</td>\n",
              "      <td>0.000000</td>\n",
              "      <td>0.000000</td>\n",
              "      <td>0.000000</td>\n",
              "      <td>146846.250</td>\n",
              "      <td>1</td>\n",
              "      <td>0</td>\n",
              "    </tr>\n",
              "    <tr>\n",
              "      <th>1</th>\n",
              "      <td>100047.0</td>\n",
              "      <td>1</td>\n",
              "      <td>0</td>\n",
              "      <td>1</td>\n",
              "      <td>0</td>\n",
              "      <td>1</td>\n",
              "      <td>0</td>\n",
              "      <td>202500.0</td>\n",
              "      <td>1193580.0</td>\n",
              "      <td>35028.0</td>\n",
              "      <td>855000.0</td>\n",
              "      <td>0</td>\n",
              "      <td>0</td>\n",
              "      <td>0</td>\n",
              "      <td>0</td>\n",
              "      <td>0</td>\n",
              "      <td>0</td>\n",
              "      <td>1</td>\n",
              "      <td>1</td>\n",
              "      <td>0</td>\n",
              "      <td>0</td>\n",
              "      <td>0</td>\n",
              "      <td>0</td>\n",
              "      <td>0</td>\n",
              "      <td>0</td>\n",
              "      <td>0</td>\n",
              "      <td>0</td>\n",
              "      <td>0</td>\n",
              "      <td>1</td>\n",
              "      <td>1</td>\n",
              "      <td>0</td>\n",
              "      <td>0</td>\n",
              "      <td>0</td>\n",
              "      <td>1</td>\n",
              "      <td>0</td>\n",
              "      <td>0</td>\n",
              "      <td>0</td>\n",
              "      <td>0</td>\n",
              "      <td>0.025164</td>\n",
              "      <td>47.895890</td>\n",
              "      <td>...</td>\n",
              "      <td>0</td>\n",
              "      <td>0</td>\n",
              "      <td>0</td>\n",
              "      <td>0</td>\n",
              "      <td>0</td>\n",
              "      <td>0</td>\n",
              "      <td>0</td>\n",
              "      <td>0</td>\n",
              "      <td>0</td>\n",
              "      <td>0</td>\n",
              "      <td>0</td>\n",
              "      <td>0.306841</td>\n",
              "      <td>0.320163</td>\n",
              "      <td>-1075</td>\n",
              "      <td>0</td>\n",
              "      <td>4</td>\n",
              "      <td>1</td>\n",
              "      <td>5.0</td>\n",
              "      <td>0.3380</td>\n",
              "      <td>13518.67</td>\n",
              "      <td>0.0</td>\n",
              "      <td>-1105.0</td>\n",
              "      <td>-420.0</td>\n",
              "      <td>0.0</td>\n",
              "      <td>0.0</td>\n",
              "      <td>326250.000000</td>\n",
              "      <td>0.000000</td>\n",
              "      <td>0.000000</td>\n",
              "      <td>0.0</td>\n",
              "      <td>0.000000</td>\n",
              "      <td>0.000000</td>\n",
              "      <td>2.0</td>\n",
              "      <td>-4.100000</td>\n",
              "      <td>1.000000</td>\n",
              "      <td>0.000000</td>\n",
              "      <td>0.000000</td>\n",
              "      <td>0.333333</td>\n",
              "      <td>272971.125</td>\n",
              "      <td>0</td>\n",
              "      <td>0</td>\n",
              "    </tr>\n",
              "    <tr>\n",
              "      <th>4</th>\n",
              "      <td>100112.0</td>\n",
              "      <td>1</td>\n",
              "      <td>0</td>\n",
              "      <td>1</td>\n",
              "      <td>1</td>\n",
              "      <td>1</td>\n",
              "      <td>0</td>\n",
              "      <td>315000.0</td>\n",
              "      <td>953460.0</td>\n",
              "      <td>64107.0</td>\n",
              "      <td>900000.0</td>\n",
              "      <td>1</td>\n",
              "      <td>0</td>\n",
              "      <td>0</td>\n",
              "      <td>0</td>\n",
              "      <td>0</td>\n",
              "      <td>0</td>\n",
              "      <td>0</td>\n",
              "      <td>1</td>\n",
              "      <td>0</td>\n",
              "      <td>0</td>\n",
              "      <td>0</td>\n",
              "      <td>0</td>\n",
              "      <td>0</td>\n",
              "      <td>0</td>\n",
              "      <td>0</td>\n",
              "      <td>1</td>\n",
              "      <td>0</td>\n",
              "      <td>0</td>\n",
              "      <td>0</td>\n",
              "      <td>0</td>\n",
              "      <td>1</td>\n",
              "      <td>0</td>\n",
              "      <td>0</td>\n",
              "      <td>0</td>\n",
              "      <td>0</td>\n",
              "      <td>0</td>\n",
              "      <td>1</td>\n",
              "      <td>0.030755</td>\n",
              "      <td>27.942466</td>\n",
              "      <td>...</td>\n",
              "      <td>0</td>\n",
              "      <td>0</td>\n",
              "      <td>0</td>\n",
              "      <td>0</td>\n",
              "      <td>0</td>\n",
              "      <td>0</td>\n",
              "      <td>0</td>\n",
              "      <td>0</td>\n",
              "      <td>0</td>\n",
              "      <td>0</td>\n",
              "      <td>0</td>\n",
              "      <td>0.432340</td>\n",
              "      <td>0.077499</td>\n",
              "      <td>-591</td>\n",
              "      <td>0</td>\n",
              "      <td>2</td>\n",
              "      <td>1</td>\n",
              "      <td>2.0</td>\n",
              "      <td>0.6563</td>\n",
              "      <td>0.00</td>\n",
              "      <td>0.0</td>\n",
              "      <td>-288.0</td>\n",
              "      <td>-271.0</td>\n",
              "      <td>0.0</td>\n",
              "      <td>0.0</td>\n",
              "      <td>127058.823529</td>\n",
              "      <td>0.000000</td>\n",
              "      <td>0.000000</td>\n",
              "      <td>0.0</td>\n",
              "      <td>0.000000</td>\n",
              "      <td>0.000000</td>\n",
              "      <td>3.0</td>\n",
              "      <td>-14.450000</td>\n",
              "      <td>0.950000</td>\n",
              "      <td>-0.214515</td>\n",
              "      <td>0.000000</td>\n",
              "      <td>0.000000</td>\n",
              "      <td>115589.250</td>\n",
              "      <td>0</td>\n",
              "      <td>0</td>\n",
              "    </tr>\n",
              "    <tr>\n",
              "      <th>11</th>\n",
              "      <td>100273.0</td>\n",
              "      <td>1</td>\n",
              "      <td>0</td>\n",
              "      <td>0</td>\n",
              "      <td>0</td>\n",
              "      <td>1</td>\n",
              "      <td>0</td>\n",
              "      <td>157500.0</td>\n",
              "      <td>1710000.0</td>\n",
              "      <td>66262.5</td>\n",
              "      <td>1710000.0</td>\n",
              "      <td>0</td>\n",
              "      <td>0</td>\n",
              "      <td>0</td>\n",
              "      <td>0</td>\n",
              "      <td>0</td>\n",
              "      <td>0</td>\n",
              "      <td>1</td>\n",
              "      <td>0</td>\n",
              "      <td>0</td>\n",
              "      <td>0</td>\n",
              "      <td>0</td>\n",
              "      <td>0</td>\n",
              "      <td>0</td>\n",
              "      <td>1</td>\n",
              "      <td>0</td>\n",
              "      <td>0</td>\n",
              "      <td>0</td>\n",
              "      <td>1</td>\n",
              "      <td>1</td>\n",
              "      <td>0</td>\n",
              "      <td>0</td>\n",
              "      <td>0</td>\n",
              "      <td>1</td>\n",
              "      <td>0</td>\n",
              "      <td>0</td>\n",
              "      <td>0</td>\n",
              "      <td>0</td>\n",
              "      <td>0.004849</td>\n",
              "      <td>63.361644</td>\n",
              "      <td>...</td>\n",
              "      <td>0</td>\n",
              "      <td>0</td>\n",
              "      <td>0</td>\n",
              "      <td>0</td>\n",
              "      <td>0</td>\n",
              "      <td>0</td>\n",
              "      <td>0</td>\n",
              "      <td>0</td>\n",
              "      <td>0</td>\n",
              "      <td>0</td>\n",
              "      <td>0</td>\n",
              "      <td>0.126332</td>\n",
              "      <td>0.535276</td>\n",
              "      <td>-1246</td>\n",
              "      <td>0</td>\n",
              "      <td>1</td>\n",
              "      <td>1</td>\n",
              "      <td>5.0</td>\n",
              "      <td>0.2133</td>\n",
              "      <td>0.00</td>\n",
              "      <td>0.0</td>\n",
              "      <td>-1114.0</td>\n",
              "      <td>-280.0</td>\n",
              "      <td>4.0</td>\n",
              "      <td>4.0</td>\n",
              "      <td>88288.043478</td>\n",
              "      <td>70582.278913</td>\n",
              "      <td>8270.802391</td>\n",
              "      <td>41.0</td>\n",
              "      <td>70549.616739</td>\n",
              "      <td>4072.967609</td>\n",
              "      <td>6.0</td>\n",
              "      <td>-13.777372</td>\n",
              "      <td>0.927007</td>\n",
              "      <td>0.007856</td>\n",
              "      <td>0.009524</td>\n",
              "      <td>0.400000</td>\n",
              "      <td>662183.100</td>\n",
              "      <td>0</td>\n",
              "      <td>0</td>\n",
              "    </tr>\n",
              "    <tr>\n",
              "      <th>14</th>\n",
              "      <td>100295.0</td>\n",
              "      <td>1</td>\n",
              "      <td>0</td>\n",
              "      <td>1</td>\n",
              "      <td>1</td>\n",
              "      <td>0</td>\n",
              "      <td>1</td>\n",
              "      <td>225000.0</td>\n",
              "      <td>1019205.0</td>\n",
              "      <td>31032.0</td>\n",
              "      <td>774000.0</td>\n",
              "      <td>0</td>\n",
              "      <td>0</td>\n",
              "      <td>0</td>\n",
              "      <td>0</td>\n",
              "      <td>0</td>\n",
              "      <td>0</td>\n",
              "      <td>1</td>\n",
              "      <td>1</td>\n",
              "      <td>0</td>\n",
              "      <td>0</td>\n",
              "      <td>0</td>\n",
              "      <td>0</td>\n",
              "      <td>0</td>\n",
              "      <td>0</td>\n",
              "      <td>0</td>\n",
              "      <td>0</td>\n",
              "      <td>0</td>\n",
              "      <td>1</td>\n",
              "      <td>0</td>\n",
              "      <td>0</td>\n",
              "      <td>1</td>\n",
              "      <td>0</td>\n",
              "      <td>1</td>\n",
              "      <td>0</td>\n",
              "      <td>0</td>\n",
              "      <td>0</td>\n",
              "      <td>0</td>\n",
              "      <td>0.072508</td>\n",
              "      <td>31.112329</td>\n",
              "      <td>...</td>\n",
              "      <td>0</td>\n",
              "      <td>0</td>\n",
              "      <td>0</td>\n",
              "      <td>0</td>\n",
              "      <td>0</td>\n",
              "      <td>0</td>\n",
              "      <td>0</td>\n",
              "      <td>0</td>\n",
              "      <td>0</td>\n",
              "      <td>0</td>\n",
              "      <td>0</td>\n",
              "      <td>0.302394</td>\n",
              "      <td>0.463275</td>\n",
              "      <td>-14</td>\n",
              "      <td>0</td>\n",
              "      <td>1</td>\n",
              "      <td>1</td>\n",
              "      <td>6.0</td>\n",
              "      <td>0.3950</td>\n",
              "      <td>0.00</td>\n",
              "      <td>0.0</td>\n",
              "      <td>-800.0</td>\n",
              "      <td>-607.0</td>\n",
              "      <td>0.0</td>\n",
              "      <td>0.0</td>\n",
              "      <td>153600.000000</td>\n",
              "      <td>22873.642105</td>\n",
              "      <td>4635.262819</td>\n",
              "      <td>3.0</td>\n",
              "      <td>22752.610274</td>\n",
              "      <td>1523.236000</td>\n",
              "      <td>2.0</td>\n",
              "      <td>-9.407846</td>\n",
              "      <td>0.983333</td>\n",
              "      <td>0.000000</td>\n",
              "      <td>0.000000</td>\n",
              "      <td>0.000000</td>\n",
              "      <td>146846.250</td>\n",
              "      <td>1</td>\n",
              "      <td>0</td>\n",
              "    </tr>\n",
              "    <tr>\n",
              "      <th>...</th>\n",
              "      <td>...</td>\n",
              "      <td>...</td>\n",
              "      <td>...</td>\n",
              "      <td>...</td>\n",
              "      <td>...</td>\n",
              "      <td>...</td>\n",
              "      <td>...</td>\n",
              "      <td>...</td>\n",
              "      <td>...</td>\n",
              "      <td>...</td>\n",
              "      <td>...</td>\n",
              "      <td>...</td>\n",
              "      <td>...</td>\n",
              "      <td>...</td>\n",
              "      <td>...</td>\n",
              "      <td>...</td>\n",
              "      <td>...</td>\n",
              "      <td>...</td>\n",
              "      <td>...</td>\n",
              "      <td>...</td>\n",
              "      <td>...</td>\n",
              "      <td>...</td>\n",
              "      <td>...</td>\n",
              "      <td>...</td>\n",
              "      <td>...</td>\n",
              "      <td>...</td>\n",
              "      <td>...</td>\n",
              "      <td>...</td>\n",
              "      <td>...</td>\n",
              "      <td>...</td>\n",
              "      <td>...</td>\n",
              "      <td>...</td>\n",
              "      <td>...</td>\n",
              "      <td>...</td>\n",
              "      <td>...</td>\n",
              "      <td>...</td>\n",
              "      <td>...</td>\n",
              "      <td>...</td>\n",
              "      <td>...</td>\n",
              "      <td>...</td>\n",
              "      <td>...</td>\n",
              "      <td>...</td>\n",
              "      <td>...</td>\n",
              "      <td>...</td>\n",
              "      <td>...</td>\n",
              "      <td>...</td>\n",
              "      <td>...</td>\n",
              "      <td>...</td>\n",
              "      <td>...</td>\n",
              "      <td>...</td>\n",
              "      <td>...</td>\n",
              "      <td>...</td>\n",
              "      <td>...</td>\n",
              "      <td>...</td>\n",
              "      <td>...</td>\n",
              "      <td>...</td>\n",
              "      <td>...</td>\n",
              "      <td>...</td>\n",
              "      <td>...</td>\n",
              "      <td>...</td>\n",
              "      <td>...</td>\n",
              "      <td>...</td>\n",
              "      <td>...</td>\n",
              "      <td>...</td>\n",
              "      <td>...</td>\n",
              "      <td>...</td>\n",
              "      <td>...</td>\n",
              "      <td>...</td>\n",
              "      <td>...</td>\n",
              "      <td>...</td>\n",
              "      <td>...</td>\n",
              "      <td>...</td>\n",
              "      <td>...</td>\n",
              "      <td>...</td>\n",
              "      <td>...</td>\n",
              "      <td>...</td>\n",
              "      <td>...</td>\n",
              "      <td>...</td>\n",
              "      <td>...</td>\n",
              "      <td>...</td>\n",
              "      <td>...</td>\n",
              "    </tr>\n",
              "    <tr>\n",
              "      <th>244469</th>\n",
              "      <td>456248.0</td>\n",
              "      <td>0</td>\n",
              "      <td>0</td>\n",
              "      <td>0</td>\n",
              "      <td>0</td>\n",
              "      <td>1</td>\n",
              "      <td>0</td>\n",
              "      <td>153000.0</td>\n",
              "      <td>331920.0</td>\n",
              "      <td>16096.5</td>\n",
              "      <td>225000.0</td>\n",
              "      <td>0</td>\n",
              "      <td>0</td>\n",
              "      <td>0</td>\n",
              "      <td>0</td>\n",
              "      <td>0</td>\n",
              "      <td>0</td>\n",
              "      <td>1</td>\n",
              "      <td>0</td>\n",
              "      <td>0</td>\n",
              "      <td>0</td>\n",
              "      <td>0</td>\n",
              "      <td>0</td>\n",
              "      <td>0</td>\n",
              "      <td>1</td>\n",
              "      <td>0</td>\n",
              "      <td>0</td>\n",
              "      <td>0</td>\n",
              "      <td>1</td>\n",
              "      <td>0</td>\n",
              "      <td>1</td>\n",
              "      <td>0</td>\n",
              "      <td>0</td>\n",
              "      <td>1</td>\n",
              "      <td>0</td>\n",
              "      <td>0</td>\n",
              "      <td>0</td>\n",
              "      <td>0</td>\n",
              "      <td>0.022625</td>\n",
              "      <td>45.767123</td>\n",
              "      <td>...</td>\n",
              "      <td>0</td>\n",
              "      <td>0</td>\n",
              "      <td>0</td>\n",
              "      <td>0</td>\n",
              "      <td>0</td>\n",
              "      <td>0</td>\n",
              "      <td>0</td>\n",
              "      <td>0</td>\n",
              "      <td>0</td>\n",
              "      <td>0</td>\n",
              "      <td>0</td>\n",
              "      <td>0.530725</td>\n",
              "      <td>0.535276</td>\n",
              "      <td>0</td>\n",
              "      <td>0</td>\n",
              "      <td>1</td>\n",
              "      <td>1</td>\n",
              "      <td>4.0</td>\n",
              "      <td>0.2273</td>\n",
              "      <td>0.00</td>\n",
              "      <td>0.0</td>\n",
              "      <td>-1008.0</td>\n",
              "      <td>-245.0</td>\n",
              "      <td>0.0</td>\n",
              "      <td>0.0</td>\n",
              "      <td>900000.000000</td>\n",
              "      <td>0.000000</td>\n",
              "      <td>0.000000</td>\n",
              "      <td>0.0</td>\n",
              "      <td>0.000000</td>\n",
              "      <td>0.000000</td>\n",
              "      <td>3.0</td>\n",
              "      <td>-5.065217</td>\n",
              "      <td>0.913043</td>\n",
              "      <td>0.016404</td>\n",
              "      <td>0.000000</td>\n",
              "      <td>0.000000</td>\n",
              "      <td>636604.875</td>\n",
              "      <td>0</td>\n",
              "      <td>1</td>\n",
              "    </tr>\n",
              "    <tr>\n",
              "      <th>244470</th>\n",
              "      <td>456249.0</td>\n",
              "      <td>0</td>\n",
              "      <td>0</td>\n",
              "      <td>0</td>\n",
              "      <td>0</td>\n",
              "      <td>1</td>\n",
              "      <td>0</td>\n",
              "      <td>112500.0</td>\n",
              "      <td>225000.0</td>\n",
              "      <td>22050.0</td>\n",
              "      <td>225000.0</td>\n",
              "      <td>0</td>\n",
              "      <td>0</td>\n",
              "      <td>0</td>\n",
              "      <td>0</td>\n",
              "      <td>0</td>\n",
              "      <td>0</td>\n",
              "      <td>1</td>\n",
              "      <td>0</td>\n",
              "      <td>0</td>\n",
              "      <td>1</td>\n",
              "      <td>0</td>\n",
              "      <td>0</td>\n",
              "      <td>0</td>\n",
              "      <td>0</td>\n",
              "      <td>0</td>\n",
              "      <td>0</td>\n",
              "      <td>0</td>\n",
              "      <td>1</td>\n",
              "      <td>0</td>\n",
              "      <td>0</td>\n",
              "      <td>1</td>\n",
              "      <td>0</td>\n",
              "      <td>1</td>\n",
              "      <td>0</td>\n",
              "      <td>0</td>\n",
              "      <td>0</td>\n",
              "      <td>0</td>\n",
              "      <td>0.022800</td>\n",
              "      <td>66.805479</td>\n",
              "      <td>...</td>\n",
              "      <td>0</td>\n",
              "      <td>0</td>\n",
              "      <td>0</td>\n",
              "      <td>0</td>\n",
              "      <td>0</td>\n",
              "      <td>0</td>\n",
              "      <td>0</td>\n",
              "      <td>0</td>\n",
              "      <td>0</td>\n",
              "      <td>0</td>\n",
              "      <td>0</td>\n",
              "      <td>0.346391</td>\n",
              "      <td>0.742182</td>\n",
              "      <td>0</td>\n",
              "      <td>0</td>\n",
              "      <td>0</td>\n",
              "      <td>1</td>\n",
              "      <td>13.0</td>\n",
              "      <td>0.0441</td>\n",
              "      <td>30735.00</td>\n",
              "      <td>0.0</td>\n",
              "      <td>-1667.0</td>\n",
              "      <td>-483.0</td>\n",
              "      <td>0.0</td>\n",
              "      <td>0.0</td>\n",
              "      <td>145945.945946</td>\n",
              "      <td>29135.519795</td>\n",
              "      <td>4947.792711</td>\n",
              "      <td>3.0</td>\n",
              "      <td>28820.382429</td>\n",
              "      <td>1738.640132</td>\n",
              "      <td>1.0</td>\n",
              "      <td>-2.500000</td>\n",
              "      <td>1.000000</td>\n",
              "      <td>0.000000</td>\n",
              "      <td>0.000000</td>\n",
              "      <td>0.500000</td>\n",
              "      <td>191880.000</td>\n",
              "      <td>1</td>\n",
              "      <td>1</td>\n",
              "    </tr>\n",
              "    <tr>\n",
              "      <th>244471</th>\n",
              "      <td>456251.0</td>\n",
              "      <td>0</td>\n",
              "      <td>0</td>\n",
              "      <td>1</td>\n",
              "      <td>0</td>\n",
              "      <td>0</td>\n",
              "      <td>0</td>\n",
              "      <td>157500.0</td>\n",
              "      <td>254700.0</td>\n",
              "      <td>27558.0</td>\n",
              "      <td>225000.0</td>\n",
              "      <td>0</td>\n",
              "      <td>0</td>\n",
              "      <td>0</td>\n",
              "      <td>0</td>\n",
              "      <td>0</td>\n",
              "      <td>0</td>\n",
              "      <td>1</td>\n",
              "      <td>0</td>\n",
              "      <td>0</td>\n",
              "      <td>0</td>\n",
              "      <td>0</td>\n",
              "      <td>0</td>\n",
              "      <td>0</td>\n",
              "      <td>1</td>\n",
              "      <td>0</td>\n",
              "      <td>0</td>\n",
              "      <td>0</td>\n",
              "      <td>1</td>\n",
              "      <td>0</td>\n",
              "      <td>1</td>\n",
              "      <td>0</td>\n",
              "      <td>0</td>\n",
              "      <td>0</td>\n",
              "      <td>0</td>\n",
              "      <td>0</td>\n",
              "      <td>0</td>\n",
              "      <td>1</td>\n",
              "      <td>0.032561</td>\n",
              "      <td>25.553425</td>\n",
              "      <td>...</td>\n",
              "      <td>0</td>\n",
              "      <td>0</td>\n",
              "      <td>0</td>\n",
              "      <td>0</td>\n",
              "      <td>0</td>\n",
              "      <td>0</td>\n",
              "      <td>0</td>\n",
              "      <td>0</td>\n",
              "      <td>0</td>\n",
              "      <td>0</td>\n",
              "      <td>0</td>\n",
              "      <td>0.681632</td>\n",
              "      <td>0.535276</td>\n",
              "      <td>-273</td>\n",
              "      <td>0</td>\n",
              "      <td>1</td>\n",
              "      <td>1</td>\n",
              "      <td>4.0</td>\n",
              "      <td>0.2273</td>\n",
              "      <td>0.00</td>\n",
              "      <td>0.0</td>\n",
              "      <td>-1008.0</td>\n",
              "      <td>-245.0</td>\n",
              "      <td>0.0</td>\n",
              "      <td>0.0</td>\n",
              "      <td>145945.945946</td>\n",
              "      <td>29135.519795</td>\n",
              "      <td>4947.792711</td>\n",
              "      <td>3.0</td>\n",
              "      <td>28820.382429</td>\n",
              "      <td>1738.640132</td>\n",
              "      <td>1.0</td>\n",
              "      <td>-36.285714</td>\n",
              "      <td>1.000000</td>\n",
              "      <td>0.000000</td>\n",
              "      <td>0.000000</td>\n",
              "      <td>0.000000</td>\n",
              "      <td>40455.000</td>\n",
              "      <td>1</td>\n",
              "      <td>1</td>\n",
              "    </tr>\n",
              "    <tr>\n",
              "      <th>244472</th>\n",
              "      <td>456252.0</td>\n",
              "      <td>0</td>\n",
              "      <td>0</td>\n",
              "      <td>0</td>\n",
              "      <td>0</td>\n",
              "      <td>1</td>\n",
              "      <td>0</td>\n",
              "      <td>72000.0</td>\n",
              "      <td>269550.0</td>\n",
              "      <td>12001.5</td>\n",
              "      <td>225000.0</td>\n",
              "      <td>0</td>\n",
              "      <td>0</td>\n",
              "      <td>0</td>\n",
              "      <td>0</td>\n",
              "      <td>0</td>\n",
              "      <td>0</td>\n",
              "      <td>1</td>\n",
              "      <td>0</td>\n",
              "      <td>0</td>\n",
              "      <td>1</td>\n",
              "      <td>0</td>\n",
              "      <td>0</td>\n",
              "      <td>0</td>\n",
              "      <td>0</td>\n",
              "      <td>0</td>\n",
              "      <td>0</td>\n",
              "      <td>0</td>\n",
              "      <td>1</td>\n",
              "      <td>0</td>\n",
              "      <td>0</td>\n",
              "      <td>0</td>\n",
              "      <td>1</td>\n",
              "      <td>1</td>\n",
              "      <td>0</td>\n",
              "      <td>0</td>\n",
              "      <td>0</td>\n",
              "      <td>0</td>\n",
              "      <td>0.025164</td>\n",
              "      <td>56.917808</td>\n",
              "      <td>...</td>\n",
              "      <td>0</td>\n",
              "      <td>0</td>\n",
              "      <td>0</td>\n",
              "      <td>0</td>\n",
              "      <td>0</td>\n",
              "      <td>0</td>\n",
              "      <td>0</td>\n",
              "      <td>0</td>\n",
              "      <td>0</td>\n",
              "      <td>0</td>\n",
              "      <td>0</td>\n",
              "      <td>0.115992</td>\n",
              "      <td>0.535276</td>\n",
              "      <td>0</td>\n",
              "      <td>0</td>\n",
              "      <td>1</td>\n",
              "      <td>1</td>\n",
              "      <td>4.0</td>\n",
              "      <td>0.2273</td>\n",
              "      <td>0.00</td>\n",
              "      <td>0.0</td>\n",
              "      <td>-1008.0</td>\n",
              "      <td>-245.0</td>\n",
              "      <td>0.0</td>\n",
              "      <td>0.0</td>\n",
              "      <td>145945.945946</td>\n",
              "      <td>29135.519795</td>\n",
              "      <td>4947.792711</td>\n",
              "      <td>3.0</td>\n",
              "      <td>28820.382429</td>\n",
              "      <td>1738.640132</td>\n",
              "      <td>1.0</td>\n",
              "      <td>-2.833333</td>\n",
              "      <td>0.833333</td>\n",
              "      <td>0.000000</td>\n",
              "      <td>0.000000</td>\n",
              "      <td>0.000000</td>\n",
              "      <td>56821.500</td>\n",
              "      <td>1</td>\n",
              "      <td>1</td>\n",
              "    </tr>\n",
              "    <tr>\n",
              "      <th>244473</th>\n",
              "      <td>456253.0</td>\n",
              "      <td>0</td>\n",
              "      <td>0</td>\n",
              "      <td>0</td>\n",
              "      <td>0</td>\n",
              "      <td>1</td>\n",
              "      <td>0</td>\n",
              "      <td>153000.0</td>\n",
              "      <td>677664.0</td>\n",
              "      <td>29979.0</td>\n",
              "      <td>585000.0</td>\n",
              "      <td>0</td>\n",
              "      <td>0</td>\n",
              "      <td>0</td>\n",
              "      <td>0</td>\n",
              "      <td>0</td>\n",
              "      <td>0</td>\n",
              "      <td>1</td>\n",
              "      <td>0</td>\n",
              "      <td>0</td>\n",
              "      <td>0</td>\n",
              "      <td>0</td>\n",
              "      <td>0</td>\n",
              "      <td>0</td>\n",
              "      <td>1</td>\n",
              "      <td>1</td>\n",
              "      <td>0</td>\n",
              "      <td>0</td>\n",
              "      <td>0</td>\n",
              "      <td>0</td>\n",
              "      <td>1</td>\n",
              "      <td>0</td>\n",
              "      <td>0</td>\n",
              "      <td>1</td>\n",
              "      <td>0</td>\n",
              "      <td>0</td>\n",
              "      <td>0</td>\n",
              "      <td>0</td>\n",
              "      <td>0.005002</td>\n",
              "      <td>41.002740</td>\n",
              "      <td>...</td>\n",
              "      <td>0</td>\n",
              "      <td>0</td>\n",
              "      <td>0</td>\n",
              "      <td>0</td>\n",
              "      <td>0</td>\n",
              "      <td>0</td>\n",
              "      <td>0</td>\n",
              "      <td>0</td>\n",
              "      <td>0</td>\n",
              "      <td>0</td>\n",
              "      <td>0</td>\n",
              "      <td>0.535722</td>\n",
              "      <td>0.218859</td>\n",
              "      <td>-1909</td>\n",
              "      <td>0</td>\n",
              "      <td>1</td>\n",
              "      <td>1</td>\n",
              "      <td>4.0</td>\n",
              "      <td>0.4535</td>\n",
              "      <td>0.00</td>\n",
              "      <td>0.0</td>\n",
              "      <td>-868.0</td>\n",
              "      <td>-713.0</td>\n",
              "      <td>0.0</td>\n",
              "      <td>0.0</td>\n",
              "      <td>145945.945946</td>\n",
              "      <td>29135.519795</td>\n",
              "      <td>4947.792711</td>\n",
              "      <td>3.0</td>\n",
              "      <td>28820.382429</td>\n",
              "      <td>1738.640132</td>\n",
              "      <td>3.0</td>\n",
              "      <td>-14.500000</td>\n",
              "      <td>0.928571</td>\n",
              "      <td>0.064503</td>\n",
              "      <td>0.058824</td>\n",
              "      <td>0.000000</td>\n",
              "      <td>20625.750</td>\n",
              "      <td>1</td>\n",
              "      <td>1</td>\n",
              "    </tr>\n",
              "  </tbody>\n",
              "</table>\n",
              "<p>244475 rows × 165 columns</p>\n",
              "</div>"
            ],
            "text/plain": [
              "        SK_ID_CURR  TARGET  ...  no_credit  cluster\n",
              "0         100031.0       1  ...          1        0\n",
              "1         100047.0       1  ...          0        0\n",
              "4         100112.0       1  ...          0        0\n",
              "11        100273.0       1  ...          0        0\n",
              "14        100295.0       1  ...          1        0\n",
              "...            ...     ...  ...        ...      ...\n",
              "244469    456248.0       0  ...          0        1\n",
              "244470    456249.0       0  ...          1        1\n",
              "244471    456251.0       0  ...          1        1\n",
              "244472    456252.0       0  ...          1        1\n",
              "244473    456253.0       0  ...          1        1\n",
              "\n",
              "[244475 rows x 165 columns]"
            ]
          },
          "metadata": {
            "tags": []
          },
          "execution_count": 62
        }
      ]
    },
    {
      "cell_type": "markdown",
      "metadata": {
        "id": "1QjLj0YXtHFW",
        "colab_type": "text"
      },
      "source": [
        "### Imbalance dataset issue - sampling\n",
        "After cleaning the NA's, we want to deal with the imbalanced label issues in our dataset. Since our dataset is highly imbalance (with significantly low number of default: 1's), we want to use SMOTE technique to help us with the imbalanced problem."
      ]
    },
    {
      "cell_type": "code",
      "metadata": {
        "id": "Npr6YuOGP9UR",
        "colab_type": "code",
        "colab": {}
      },
      "source": [
        "from collections import Counter\n",
        "from imblearn.over_sampling import SMOTE\n",
        "from imblearn.under_sampling import RandomUnderSampler\n",
        "from imblearn.pipeline import Pipeline"
      ],
      "execution_count": 0,
      "outputs": []
    },
    {
      "cell_type": "code",
      "metadata": {
        "id": "iwe0QgftuD3M",
        "colab_type": "code",
        "colab": {}
      },
      "source": [
        "X = df3.iloc[:,2:]\n",
        "y = df3['TARGET']"
      ],
      "execution_count": 0,
      "outputs": []
    },
    {
      "cell_type": "code",
      "metadata": {
        "id": "LLdO1U9UfDHl",
        "colab_type": "code",
        "colab": {}
      },
      "source": [
        "from sklearn.model_selection import train_test_split\n",
        "\n",
        "X_train, X_test, y_train, y_test = train_test_split(X, y, test_size=0.20, random_state=0)"
      ],
      "execution_count": 0,
      "outputs": []
    },
    {
      "cell_type": "code",
      "metadata": {
        "id": "vAkminBP43tq",
        "colab_type": "code",
        "outputId": "4025f39c-39ef-4485-8568-5f5f404545c8",
        "colab": {
          "base_uri": "https://localhost:8080/",
          "height": 34
        }
      },
      "source": [
        "counter = Counter(y_train)\n",
        "print(counter)"
      ],
      "execution_count": 0,
      "outputs": [
        {
          "output_type": "stream",
          "text": [
            "Counter({0: 179747, 1: 15833})\n"
          ],
          "name": "stdout"
        }
      ]
    },
    {
      "cell_type": "code",
      "metadata": {
        "id": "_EZS1zpKQHP_",
        "colab_type": "code",
        "colab": {}
      },
      "source": [
        "over = SMOTE(sampling_strategy=0.2)\n",
        "under = RandomUnderSampler(sampling_strategy=0.5)\n",
        "steps = [('o', over), ('u', under)]\n",
        "pipeline = Pipeline(steps=steps)"
      ],
      "execution_count": 0,
      "outputs": []
    },
    {
      "cell_type": "code",
      "metadata": {
        "id": "bRgLR_l7-lXr",
        "colab_type": "code",
        "outputId": "c6b4bbf7-5f1b-48af-8fba-f954a34c970a",
        "colab": {
          "base_uri": "https://localhost:8080/",
          "height": 105
        }
      },
      "source": [
        "X_train, y_train = pipeline.fit_resample(X_train, y_train)"
      ],
      "execution_count": 0,
      "outputs": [
        {
          "output_type": "stream",
          "text": [
            "/usr/local/lib/python3.6/dist-packages/sklearn/utils/deprecation.py:87: FutureWarning: Function safe_indexing is deprecated; safe_indexing is deprecated in version 0.22 and will be removed in version 0.24.\n",
            "  warnings.warn(msg, category=FutureWarning)\n",
            "/usr/local/lib/python3.6/dist-packages/sklearn/utils/deprecation.py:87: FutureWarning: Function safe_indexing is deprecated; safe_indexing is deprecated in version 0.22 and will be removed in version 0.24.\n",
            "  warnings.warn(msg, category=FutureWarning)\n"
          ],
          "name": "stderr"
        }
      ]
    },
    {
      "cell_type": "code",
      "metadata": {
        "id": "GaYaPCAmUJR4",
        "colab_type": "code",
        "outputId": "4c71ffe7-519f-4e9d-d9d6-c42726b32b8d",
        "colab": {
          "base_uri": "https://localhost:8080/",
          "height": 34
        }
      },
      "source": [
        "print(Counter(y_train))"
      ],
      "execution_count": 0,
      "outputs": [
        {
          "output_type": "stream",
          "text": [
            "Counter({0: 71898, 1: 35949})\n"
          ],
          "name": "stdout"
        }
      ]
    },
    {
      "cell_type": "markdown",
      "metadata": {
        "id": "fg8fPi6Q2R26",
        "colab_type": "text"
      },
      "source": [
        "After trying random oversampling of the minority group (0), SMOTE oversampling of minority group, and SMOTE oversampling of minority group and undersampling of the majority group, we found that the combination of oversampling and undersampling with the parameters of 0.1 and 0.5 gave us the best predicted result."
      ]
    },
    {
      "cell_type": "markdown",
      "metadata": {
        "id": "TkZ0x2L2T-rk",
        "colab_type": "text"
      },
      "source": [
        "## Modeling"
      ]
    },
    {
      "cell_type": "markdown",
      "metadata": {
        "id": "vf28LORa2H8i",
        "colab_type": "text"
      },
      "source": [
        "### Logistic Regression"
      ]
    },
    {
      "cell_type": "code",
      "metadata": {
        "id": "LzNev_yAn1gp",
        "colab_type": "code",
        "outputId": "2c48e41f-efb1-4689-9448-a8b11e155830",
        "colab": {
          "base_uri": "https://localhost:8080/",
          "height": 190
        }
      },
      "source": [
        "from sklearn.linear_model import LogisticRegression\n",
        "from sklearn.metrics import accuracy_score \n",
        "\n",
        "lr = LogisticRegression()\n",
        "\n",
        "lr.fit(X_train, y_train)\n",
        "\n",
        "predict_test_lr_prob = lr.predict_proba(X_test)\n",
        "\n",
        "print(\"Logistic Regreesion AUC Score (Test): %f\" % roc_auc_score(y_test, predict_test_lr_prob[:, 1]))"
      ],
      "execution_count": 0,
      "outputs": [
        {
          "output_type": "stream",
          "text": [
            "Logistic Regreesion AUC Score (Test): 0.635608\n"
          ],
          "name": "stdout"
        },
        {
          "output_type": "stream",
          "text": [
            "/usr/local/lib/python3.6/dist-packages/sklearn/linear_model/_logistic.py:940: ConvergenceWarning: lbfgs failed to converge (status=1):\n",
            "STOP: TOTAL NO. of ITERATIONS REACHED LIMIT.\n",
            "\n",
            "Increase the number of iterations (max_iter) or scale the data as shown in:\n",
            "    https://scikit-learn.org/stable/modules/preprocessing.html\n",
            "Please also refer to the documentation for alternative solver options:\n",
            "    https://scikit-learn.org/stable/modules/linear_model.html#logistic-regression\n",
            "  extra_warning_msg=_LOGISTIC_SOLVER_CONVERGENCE_MSG)\n"
          ],
          "name": "stderr"
        }
      ]
    },
    {
      "cell_type": "markdown",
      "metadata": {
        "id": "5PGBNwVIUDWL",
        "colab_type": "text"
      },
      "source": [
        "### Random Forest"
      ]
    },
    {
      "cell_type": "code",
      "metadata": {
        "id": "TMKEVx87QAnk",
        "colab_type": "code",
        "colab": {}
      },
      "source": [
        "from sklearn.ensemble import RandomForestClassifier"
      ],
      "execution_count": 0,
      "outputs": []
    },
    {
      "cell_type": "code",
      "metadata": {
        "id": "x5kSJ-qee5hh",
        "colab_type": "code",
        "outputId": "b38f46de-bf64-480c-b024-14bc5c6975fe",
        "colab": {
          "base_uri": "https://localhost:8080/",
          "height": 34
        }
      },
      "source": [
        "random_forest = RandomForestClassifier()\n",
        "\n",
        "random_forest.fit(X_train, y_train)\n",
        "\n",
        "predict_test_rf_prob = random_forest.predict_proba(X_test)\n",
        "\n",
        "\n",
        "print(\"Random Forest AUC Score (Test): %f\" % roc_auc_score(y_test, predict_test_rf_prob[:, 1]))"
      ],
      "execution_count": 0,
      "outputs": [
        {
          "output_type": "stream",
          "text": [
            "Random Forest AUC Score (Test): 0.738523\n"
          ],
          "name": "stdout"
        }
      ]
    },
    {
      "cell_type": "code",
      "metadata": {
        "id": "1U3NFQ1zokr3",
        "colab_type": "code",
        "outputId": "c5a873ae-ed01-4ac9-c196-971bb7a695a4",
        "colab": {
          "base_uri": "https://localhost:8080/",
          "height": 268
        }
      },
      "source": [
        "from matplotlib import pyplot\n",
        "pyplot.bar(range(len(random_forest.feature_importances_)), random_forest.feature_importances_)\n",
        "pyplot.show()"
      ],
      "execution_count": 0,
      "outputs": [
        {
          "output_type": "display_data",
          "data": {
            "image/png": "[encoded data removed]",
            "text/plain": [
              "<Figure size 432x288 with 1 Axes>"
            ]
          },
          "metadata": {
            "tags": [],
            "needs_background": "light"
          }
        }
      ]
    },
    {
      "cell_type": "code",
      "metadata": {
        "id": "vRfYdwmLTgX3",
        "colab_type": "code",
        "colab": {}
      },
      "source": [
        "imp= random_forest.feature_importances_"
      ],
      "execution_count": 0,
      "outputs": []
    },
    {
      "cell_type": "code",
      "metadata": {
        "id": "jvkDP9UXJkVG",
        "colab_type": "code",
        "colab": {}
      },
      "source": [
        "imp = {'n': range(len(random_forest.feature_importances_)), 'importance': imp}\n",
        "imp = pd.DataFrame(imp)"
      ],
      "execution_count": 0,
      "outputs": []
    },
    {
      "cell_type": "code",
      "metadata": {
        "id": "z15NHJ4gJ_BD",
        "colab_type": "code",
        "outputId": "2e82c126-018e-48ae-b8bd-b7b1213cec8d",
        "colab": {
          "base_uri": "https://localhost:8080/",
          "height": 266
        }
      },
      "source": [
        "imp.sort_values('importance', ascending=False).head(7)"
      ],
      "execution_count": 0,
      "outputs": [
        {
          "output_type": "execute_result",
          "data": {
            "text/html": [
              "<div>\n",
              "<style scoped>\n",
              "    .dataframe tbody tr th:only-of-type {\n",
              "        vertical-align: middle;\n",
              "    }\n",
              "\n",
              "    .dataframe tbody tr th {\n",
              "        vertical-align: top;\n",
              "    }\n",
              "\n",
              "    .dataframe thead th {\n",
              "        text-align: right;\n",
              "    }\n",
              "</style>\n",
              "<table border=\"1\" class=\"dataframe\">\n",
              "  <thead>\n",
              "    <tr style=\"text-align: right;\">\n",
              "      <th></th>\n",
              "      <th>n</th>\n",
              "      <th>importance</th>\n",
              "    </tr>\n",
              "  </thead>\n",
              "  <tbody>\n",
              "    <tr>\n",
              "      <th>134</th>\n",
              "      <td>134</td>\n",
              "      <td>0.047994</td>\n",
              "    </tr>\n",
              "    <tr>\n",
              "      <th>135</th>\n",
              "      <td>135</td>\n",
              "      <td>0.045046</td>\n",
              "    </tr>\n",
              "    <tr>\n",
              "      <th>1</th>\n",
              "      <td>1</td>\n",
              "      <td>0.032038</td>\n",
              "    </tr>\n",
              "    <tr>\n",
              "      <th>22</th>\n",
              "      <td>22</td>\n",
              "      <td>0.026249</td>\n",
              "    </tr>\n",
              "    <tr>\n",
              "      <th>141</th>\n",
              "      <td>141</td>\n",
              "      <td>0.024170</td>\n",
              "    </tr>\n",
              "    <tr>\n",
              "      <th>159</th>\n",
              "      <td>159</td>\n",
              "      <td>0.023935</td>\n",
              "    </tr>\n",
              "    <tr>\n",
              "      <th>26</th>\n",
              "      <td>26</td>\n",
              "      <td>0.022879</td>\n",
              "    </tr>\n",
              "  </tbody>\n",
              "</table>\n",
              "</div>"
            ],
            "text/plain": [
              "       n  importance\n",
              "134  134    0.047994\n",
              "135  135    0.045046\n",
              "1      1    0.032038\n",
              "22    22    0.026249\n",
              "141  141    0.024170\n",
              "159  159    0.023935\n",
              "26    26    0.022879"
            ]
          },
          "metadata": {
            "tags": []
          },
          "execution_count": 85
        }
      ]
    },
    {
      "cell_type": "code",
      "metadata": {
        "id": "dDcHuPD5Tlc2",
        "colab_type": "code",
        "outputId": "686d034f-6a3d-4641-e328-6342260104e7",
        "colab": {
          "base_uri": "https://localhost:8080/",
          "height": 68
        }
      },
      "source": [
        "df3.iloc[:,[136,137,3,24,143,161]].columns"
      ],
      "execution_count": 0,
      "outputs": [
        {
          "output_type": "execute_result",
          "data": {
            "text/plain": [
              "Index(['EXT_SOURCE_2', 'EXT_SOURCE_3', 'CODE_GENDER.M',\n",
              "       'NAME_INCOME_TYPE.Working', 'bureau_debt_credit_ratio', 'reject_ratio'],\n",
              "      dtype='object')"
            ]
          },
          "metadata": {
            "tags": []
          },
          "execution_count": 86
        }
      ]
    },
    {
      "cell_type": "markdown",
      "metadata": {
        "id": "wrtnLmmWTvZc",
        "colab_type": "text"
      },
      "source": [
        "### XGBoost"
      ]
    },
    {
      "cell_type": "code",
      "metadata": {
        "id": "RemqfMltntkE",
        "colab_type": "code",
        "outputId": "10d9880c-dd88-4c4e-f61d-adb590eedf74",
        "colab": {
          "base_uri": "https://localhost:8080/",
          "height": 34
        }
      },
      "source": [
        "from xgboost import XGBClassifier\n",
        "from sklearn.metrics import accuracy_score \n",
        "\n",
        "xg_boost = XGBClassifier(seed=27)\n",
        "\n",
        "xg_boost.fit(X_train,y_train)\n",
        "\n",
        "predict_test_xg_prob = xg_boost.predict_proba(X_test.values)\n",
        "\n",
        "print(\"XGBoost Forest AUC Score (Test): %f\" % roc_auc_score(y_test, predict_test_xg_prob[:, 1]))"
      ],
      "execution_count": 0,
      "outputs": [
        {
          "output_type": "stream",
          "text": [
            "XGBoost Forest AUC Score (Test): 0.748209\n"
          ],
          "name": "stdout"
        }
      ]
    },
    {
      "cell_type": "code",
      "metadata": {
        "id": "6UaaLmPISNdt",
        "colab_type": "code",
        "colab": {}
      },
      "source": [
        "imp= xg_boost.feature_importances_"
      ],
      "execution_count": 0,
      "outputs": []
    },
    {
      "cell_type": "code",
      "metadata": {
        "id": "1hEl4hmHSRxu",
        "colab_type": "code",
        "colab": {}
      },
      "source": [
        "imp = {'n': range(len(random_forest.feature_importances_)), 'importance': imp}\n",
        "imp = pd.DataFrame(imp)"
      ],
      "execution_count": 0,
      "outputs": []
    },
    {
      "cell_type": "code",
      "metadata": {
        "id": "kqvIdoakSUNy",
        "colab_type": "code",
        "outputId": "9dd75c15-4098-49e5-9130-65e94228231a",
        "colab": {
          "base_uri": "https://localhost:8080/",
          "height": 266
        }
      },
      "source": [
        "imp.sort_values('importance', ascending=False).head(7)"
      ],
      "execution_count": 0,
      "outputs": [
        {
          "output_type": "execute_result",
          "data": {
            "text/html": [
              "<div>\n",
              "<style scoped>\n",
              "    .dataframe tbody tr th:only-of-type {\n",
              "        vertical-align: middle;\n",
              "    }\n",
              "\n",
              "    .dataframe tbody tr th {\n",
              "        vertical-align: top;\n",
              "    }\n",
              "\n",
              "    .dataframe thead th {\n",
              "        text-align: right;\n",
              "    }\n",
              "</style>\n",
              "<table border=\"1\" class=\"dataframe\">\n",
              "  <thead>\n",
              "    <tr style=\"text-align: right;\">\n",
              "      <th></th>\n",
              "      <th>n</th>\n",
              "      <th>importance</th>\n",
              "    </tr>\n",
              "  </thead>\n",
              "  <tbody>\n",
              "    <tr>\n",
              "      <th>22</th>\n",
              "      <td>22</td>\n",
              "      <td>0.115004</td>\n",
              "    </tr>\n",
              "    <tr>\n",
              "      <th>26</th>\n",
              "      <td>26</td>\n",
              "      <td>0.065702</td>\n",
              "    </tr>\n",
              "    <tr>\n",
              "      <th>27</th>\n",
              "      <td>27</td>\n",
              "      <td>0.061244</td>\n",
              "    </tr>\n",
              "    <tr>\n",
              "      <th>1</th>\n",
              "      <td>1</td>\n",
              "      <td>0.056865</td>\n",
              "    </tr>\n",
              "    <tr>\n",
              "      <th>58</th>\n",
              "      <td>58</td>\n",
              "      <td>0.055954</td>\n",
              "    </tr>\n",
              "    <tr>\n",
              "      <th>61</th>\n",
              "      <td>61</td>\n",
              "      <td>0.055866</td>\n",
              "    </tr>\n",
              "    <tr>\n",
              "      <th>159</th>\n",
              "      <td>159</td>\n",
              "      <td>0.051531</td>\n",
              "    </tr>\n",
              "  </tbody>\n",
              "</table>\n",
              "</div>"
            ],
            "text/plain": [
              "       n  importance\n",
              "22    22    0.115004\n",
              "26    26    0.065702\n",
              "27    27    0.061244\n",
              "1      1    0.056865\n",
              "58    58    0.055954\n",
              "61    61    0.055866\n",
              "159  159    0.051531"
            ]
          },
          "metadata": {
            "tags": []
          },
          "execution_count": 90
        }
      ]
    },
    {
      "cell_type": "code",
      "metadata": {
        "id": "uEyV7o8uSW_U",
        "colab_type": "code",
        "outputId": "1dec52c8-48c3-4544-ed6e-c9a84045d33d",
        "colab": {
          "base_uri": "https://localhost:8080/",
          "height": 102
        }
      },
      "source": [
        "df3.iloc[:,[24,28,29,3,60,161]].columns"
      ],
      "execution_count": 0,
      "outputs": [
        {
          "output_type": "execute_result",
          "data": {
            "text/plain": [
              "Index(['NAME_INCOME_TYPE.Working',\n",
              "       'NAME_EDUCATION_TYPE.Secondary...secondary.special',\n",
              "       'NAME_FAMILY_STATUS.Married', 'CODE_GENDER.M',\n",
              "       'OCCUPATION_TYPE.Not.Provided', 'reject_ratio'],\n",
              "      dtype='object')"
            ]
          },
          "metadata": {
            "tags": []
          },
          "execution_count": 91
        }
      ]
    },
    {
      "cell_type": "markdown",
      "metadata": {
        "id": "ncH7r2JjadZW",
        "colab_type": "text"
      },
      "source": [
        "### XGBoost Model Tuning"
      ]
    },
    {
      "cell_type": "code",
      "metadata": {
        "id": "IleBaeJZaeWC",
        "colab_type": "code",
        "colab": {}
      },
      "source": [
        "def modelfit(alg,useTrainCV=True, cv_folds=3, early_stopping_rounds=30):\n",
        "  if useTrainCV:\n",
        "    xgb_param = alg.get_xgb_params()\n",
        "    xgtrain = xgb.DMatrix(X_train, label=y_train)\n",
        "    cvresult = xgb.cv(xgb_param, xgtrain, num_boost_round=alg.get_params()['n_estimators'], nfold=cv_folds,\n",
        "        metrics='auc', early_stopping_rounds=early_stopping_rounds)\n",
        "    print(\"There are {} trees in our model. CV-mean: {:.4f}, CV-std: {:.4f}.\".format(\n",
        "        cvresult.shape[0], cvresult.iloc[cvresult.shape[0]-1, 0], \n",
        "        cvresult.iloc[cvresult.shape[0]-1, 1]))\n",
        "    alg.set_params(n_estimators=cvresult.shape[0])\n",
        "\n",
        "  #Fit the algorithm on the data\n",
        "  alg.fit(X_train, y_train,eval_metric='auc')\n",
        "\n",
        "  #Predict training set:\n",
        "  dtrain_predictions = alg.predict(X_test.values)\n",
        "  dtrain_predprob = alg.predict_proba(X_test.values)\n",
        "\n",
        "  #Print model report:\n",
        "  print (\"\\nModel Report\")\n",
        "  print (\"Accuracy : %.4g\" % accuracy_score(y_test, dtrain_predictions))\n",
        "  print (\"F1 Score (Test): %f\" % f1_score(y_test, dtrain_predictions))\n",
        "  print (\"AUC Score (Test): %f\" % roc_auc_score(y_test, dtrain_predprob[:,1]))"
      ],
      "execution_count": 0,
      "outputs": []
    },
    {
      "cell_type": "markdown",
      "metadata": {
        "id": "hgnkcWT7gswi",
        "colab_type": "text"
      },
      "source": [
        "#### Depth and weight"
      ]
    },
    {
      "cell_type": "code",
      "metadata": {
        "id": "bd2ZSK0KahOs",
        "colab_type": "code",
        "outputId": "d2f4f304-c96c-47b3-a3d5-1a847ca6ba5c",
        "colab": {
          "base_uri": "https://localhost:8080/",
          "height": 119
        }
      },
      "source": [
        "xgb1 = XGBClassifier(\n",
        " learning_rate =0.1,\n",
        " n_estimators=500,\n",
        " max_depth=5,\n",
        " min_child_weight=1,\n",
        " gamma=0,\n",
        " subsample=0.8,\n",
        " colsample_bytree=0.8,\n",
        " objective= 'binary:logistic',\n",
        " nthread=4,\n",
        " scale_pos_weight=1,\n",
        " seed=27)\n",
        "modelfit(xgb1)"
      ],
      "execution_count": 0,
      "outputs": [
        {
          "output_type": "stream",
          "text": [
            "There are 219 trees in our model. CV-mean: 0.9293, CV-std: 0.0003.\n",
            "\n",
            "Model Report\n",
            "Accuracy : 0.9092\n",
            "F1 Score (Test): 0.229702\n",
            "AUC Score (Test): 0.763709\n"
          ],
          "name": "stdout"
        }
      ]
    },
    {
      "cell_type": "code",
      "metadata": {
        "id": "11eHGZyqcpzR",
        "colab_type": "code",
        "colab": {}
      },
      "source": [
        "param_test1 = {\n",
        " 'max_depth':range(3,10,2),\n",
        " 'min_child_weight':range(1,6,2)\n",
        "}\n",
        "gsearch1 = GridSearchCV(estimator = XGBClassifier(learning_rate =0.1, n_estimators=219, max_depth=5,\n",
        "min_child_weight=1, gamma=0, subsample=0.8,colsample_bytree=0.8,\n",
        "objective= 'binary:logistic', nthread=4,scale_pos_weight=1, seed=27), \n",
        "param_grid = param_test1,scoring='roc_auc',n_jobs=4,iid=False, cv=5)\n",
        "\n",
        "gsearch1.fit(X_train,y_train)"
      ],
      "execution_count": 0,
      "outputs": []
    },
    {
      "cell_type": "code",
      "metadata": {
        "id": "wb8eztt-fpa2",
        "colab_type": "code",
        "outputId": "5c92c40c-9bc0-4a5b-ea1e-c2891ec57887",
        "colab": {
          "base_uri": "https://localhost:8080/",
          "height": 170
        }
      },
      "source": [
        "gsearch1.best_params_,   gsearch1.best_score_, gsearch1.best_estimator_"
      ],
      "execution_count": 0,
      "outputs": [
        {
          "output_type": "execute_result",
          "data": {
            "text/plain": [
              "({'max_depth': 5, 'min_child_weight': 3},\n",
              " 0.8961542168980932,\n",
              " XGBClassifier(base_score=0.5, booster='gbtree', colsample_bylevel=1,\n",
              "               colsample_bynode=1, colsample_bytree=0.8, gamma=0,\n",
              "               learning_rate=0.1, max_delta_step=0, max_depth=5,\n",
              "               min_child_weight=3, missing=None, n_estimators=219, n_jobs=1,\n",
              "               nthread=4, objective='binary:logistic', random_state=0,\n",
              "               reg_alpha=0, reg_lambda=1, scale_pos_weight=1, seed=27,\n",
              "               silent=None, subsample=0.8, verbosity=1))"
            ]
          },
          "metadata": {
            "tags": []
          },
          "execution_count": 126
        }
      ]
    },
    {
      "cell_type": "markdown",
      "metadata": {
        "id": "g3RdGcy_gu-Q",
        "colab_type": "text"
      },
      "source": [
        "#### Gamma"
      ]
    },
    {
      "cell_type": "code",
      "metadata": {
        "id": "uMifYil4gdcc",
        "colab_type": "code",
        "outputId": "3e8660ae-a093-496c-8b13-e6397306be0c",
        "colab": {
          "base_uri": "https://localhost:8080/",
          "height": 88
        }
      },
      "source": [
        "param_test3 = {\n",
        " 'gamma':[i/10.0 for i in range(0,5)]\n",
        "}\n",
        "gsearch3 = GridSearchCV(estimator = XGBClassifier( learning_rate =0.1, n_estimators=219, max_depth=5,\n",
        " min_child_weight=3, gamma=0, subsample=0.8, colsample_bytree=0.8,\n",
        " objective= 'binary:logistic', nthread=4, scale_pos_weight=1,seed=27), \n",
        " param_grid = param_test3, scoring='roc_auc',n_jobs=4,iid=False, cv=3)\n",
        "gsearch3.fit(X_train,y_train)\n",
        "gsearch3.best_params_, gsearch3.best_score_"
      ],
      "execution_count": 0,
      "outputs": [
        {
          "output_type": "stream",
          "text": [
            "/usr/local/lib/python3.6/dist-packages/sklearn/model_selection/_search.py:823: FutureWarning: The parameter 'iid' is deprecated in 0.22 and will be removed in 0.24.\n",
            "  \"removed in 0.24.\", FutureWarning\n"
          ],
          "name": "stderr"
        },
        {
          "output_type": "execute_result",
          "data": {
            "text/plain": [
              "({'gamma': 0.0}, 0.8944774604157191)"
            ]
          },
          "metadata": {
            "tags": []
          },
          "execution_count": 127
        }
      ]
    },
    {
      "cell_type": "code",
      "metadata": {
        "id": "WL9R40Dzh5Vo",
        "colab_type": "code",
        "outputId": "01f229a5-14d2-4f06-a1dd-dcc82b5569b6",
        "colab": {
          "base_uri": "https://localhost:8080/",
          "height": 119
        }
      },
      "source": [
        "xgb2 = XGBClassifier(\n",
        " learning_rate =0.1,\n",
        " n_estimators=500,\n",
        " max_depth=5,\n",
        " min_child_weight=3,\n",
        " gamma=0,\n",
        " subsample=0.8,\n",
        " colsample_bytree=0.8,\n",
        " objective= 'binary:logistic',\n",
        " nthread=4,\n",
        "scale_pos_weight=1,\n",
        "seed=27)\n",
        "modelfit(xgb2)"
      ],
      "execution_count": 0,
      "outputs": [
        {
          "output_type": "stream",
          "text": [
            "There are 247 trees in our model. CV-mean: 0.9311, CV-std: 0.0007.\n",
            "\n",
            "Model Report\n",
            "Accuracy : 0.9087\n",
            "F1 Score (Test): 0.225460\n",
            "AUC Score (Test): 0.764958\n"
          ],
          "name": "stdout"
        }
      ]
    },
    {
      "cell_type": "markdown",
      "metadata": {
        "id": "tsvVekxkjK40",
        "colab_type": "text"
      },
      "source": [
        "#### Subsample "
      ]
    },
    {
      "cell_type": "code",
      "metadata": {
        "id": "HUB0fbC1jAvh",
        "colab_type": "code",
        "outputId": "16b9bdf5-3773-4649-8b71-c14cb0acdaf1",
        "colab": {
          "base_uri": "https://localhost:8080/",
          "height": 88
        }
      },
      "source": [
        "param_test4 = {\n",
        " 'subsample':[i/10.0 for i in range(6,10)],\n",
        " 'colsample_bytree':[i/10.0 for i in range(6,10)]\n",
        "}\n",
        "gsearch4 = GridSearchCV(estimator = XGBClassifier(learning_rate =0.1, n_estimators=219, max_depth=5,\n",
        " min_child_weight=3, gamma=0, subsample=0.8, colsample_bytree=0.8,\n",
        " objective= 'binary:logistic', nthread=4, scale_pos_weight=1,seed=27), \n",
        " param_grid = param_test4, scoring='roc_auc',n_jobs=4,iid=False, cv=3)\n",
        "gsearch4.fit(X_train,y_train)\n",
        "gsearch4.best_params_, gsearch4.best_score_"
      ],
      "execution_count": 0,
      "outputs": [
        {
          "output_type": "stream",
          "text": [
            "/usr/local/lib/python3.6/dist-packages/sklearn/model_selection/_search.py:823: FutureWarning: The parameter 'iid' is deprecated in 0.22 and will be removed in 0.24.\n",
            "  \"removed in 0.24.\", FutureWarning\n"
          ],
          "name": "stderr"
        },
        {
          "output_type": "execute_result",
          "data": {
            "text/plain": [
              "({'colsample_bytree': 0.8, 'subsample': 0.8}, 0.8944774604157191)"
            ]
          },
          "metadata": {
            "tags": []
          },
          "execution_count": 129
        }
      ]
    },
    {
      "cell_type": "code",
      "metadata": {
        "id": "uRBN2CUHksGt",
        "colab_type": "code",
        "outputId": "7310b07f-1074-477a-b0af-5972cd15dbc5",
        "colab": {
          "base_uri": "https://localhost:8080/",
          "height": 88
        }
      },
      "source": [
        "param_test5 = {\n",
        " 'subsample':[i/100.0 for i in range(75,90,5)],\n",
        " 'colsample_bytree':[i/100.0 for i in range(75,90,5)]\n",
        "}\n",
        "gsearch5 = GridSearchCV(estimator = XGBClassifier( learning_rate =0.1, n_estimators=219, max_depth=5,\n",
        " min_child_weight=3, gamma=0, subsample=0.8, colsample_bytree=0.8,\n",
        " objective= 'binary:logistic', nthread=4, scale_pos_weight=1,seed=27), \n",
        " param_grid = param_test5, scoring='roc_auc',n_jobs=4,iid=False, cv=3)\n",
        "gsearch5.fit(X_train,y_train)\n",
        "gsearch5.best_params_, gsearch5.best_score_"
      ],
      "execution_count": 0,
      "outputs": [
        {
          "output_type": "stream",
          "text": [
            "/usr/local/lib/python3.6/dist-packages/sklearn/model_selection/_search.py:823: FutureWarning: The parameter 'iid' is deprecated in 0.22 and will be removed in 0.24.\n",
            "  \"removed in 0.24.\", FutureWarning\n"
          ],
          "name": "stderr"
        },
        {
          "output_type": "execute_result",
          "data": {
            "text/plain": [
              "({'colsample_bytree': 0.8, 'subsample': 0.8}, 0.8944774604157191)"
            ]
          },
          "metadata": {
            "tags": []
          },
          "execution_count": 131
        }
      ]
    },
    {
      "cell_type": "code",
      "metadata": {
        "id": "PiQP97lrmU4t",
        "colab_type": "code",
        "outputId": "2a511ecf-d860-4c11-d7c5-fc3344e940e0",
        "colab": {
          "base_uri": "https://localhost:8080/",
          "height": 88
        }
      },
      "source": [
        "param_test6 = {\n",
        " 'reg_alpha':[1e-5, 1e-2, 0.1, 1, 100]\n",
        "}\n",
        "gsearch6 = GridSearchCV(estimator = XGBClassifier( learning_rate =0.1, n_estimators=219, max_depth=5,\n",
        " min_child_weight=3, gamma=0, subsample=0.8, colsample_bytree=0.8,\n",
        " objective= 'binary:logistic', nthread=4, scale_pos_weight=1,seed=27), \n",
        " param_grid = param_test6, scoring='roc_auc',n_jobs=4,iid=False, cv=3)\n",
        "gsearch6.fit(X_train,y_train)\n",
        "gsearch6.best_params_, gsearch6.best_score_"
      ],
      "execution_count": 0,
      "outputs": [
        {
          "output_type": "stream",
          "text": [
            "/usr/local/lib/python3.6/dist-packages/sklearn/model_selection/_search.py:823: FutureWarning: The parameter 'iid' is deprecated in 0.22 and will be removed in 0.24.\n",
            "  \"removed in 0.24.\", FutureWarning\n"
          ],
          "name": "stderr"
        },
        {
          "output_type": "execute_result",
          "data": {
            "text/plain": [
              "({'reg_alpha': 0.01}, 0.8943256445801673)"
            ]
          },
          "metadata": {
            "tags": []
          },
          "execution_count": 132
        }
      ]
    },
    {
      "cell_type": "code",
      "metadata": {
        "id": "iea775Ahm-bx",
        "colab_type": "code",
        "outputId": "372dab92-df43-4a48-de99-6be6895d0dbb",
        "colab": {
          "base_uri": "https://localhost:8080/",
          "height": 122
        }
      },
      "source": [
        "param_test7 = {\n",
        " 'reg_alpha':[0, 0.001, 0.005, 0.01, 0.05]\n",
        "}\n",
        "gsearch7 = GridSearchCV(estimator = XGBClassifier( learning_rate =0.1, n_estimators=219, max_depth=5,\n",
        " min_child_weight=3, gamma=0, subsample=0.8, colsample_bytree=0.8,\n",
        " objective= 'binary:logistic', nthread=4, scale_pos_weight=1,seed=27), \n",
        " param_grid = param_test7, scoring='roc_auc',n_jobs=4,iid=False, cv=5)\n",
        "gsearch7.fit(X_train,y_train)\n",
        "gsearch7.best_params_, gsearch7.best_score_"
      ],
      "execution_count": 0,
      "outputs": [
        {
          "output_type": "stream",
          "text": [
            "/usr/local/lib/python3.6/dist-packages/joblib/externals/loky/process_executor.py:706: UserWarning: A worker stopped while some jobs were given to the executor. This can be caused by a too short worker timeout or by a memory leak.\n",
            "  \"timeout or by a memory leak.\", UserWarning\n",
            "/usr/local/lib/python3.6/dist-packages/sklearn/model_selection/_search.py:823: FutureWarning: The parameter 'iid' is deprecated in 0.22 and will be removed in 0.24.\n",
            "  \"removed in 0.24.\", FutureWarning\n"
          ],
          "name": "stderr"
        },
        {
          "output_type": "execute_result",
          "data": {
            "text/plain": [
              "({'reg_alpha': 0}, 0.8961542168980932)"
            ]
          },
          "metadata": {
            "tags": []
          },
          "execution_count": 134
        }
      ]
    },
    {
      "cell_type": "markdown",
      "metadata": {
        "id": "DdPkZGkcyfYW",
        "colab_type": "text"
      },
      "source": [
        "#### Final XGBoost model"
      ]
    },
    {
      "cell_type": "code",
      "metadata": {
        "id": "mtfWrKnDoX6l",
        "colab_type": "code",
        "colab": {
          "base_uri": "https://localhost:8080/",
          "height": 119
        },
        "outputId": "2affa14e-d918-4b19-814f-42b729d0933d"
      },
      "source": [
        "xgb4 = XGBClassifier(\n",
        " learning_rate =0.01,\n",
        " n_estimators=2000,\n",
        " max_depth=5,\n",
        " min_child_weight=3,\n",
        " gamma=0,\n",
        " subsample=0.8,\n",
        " colsample_bytree=0.8,\n",
        " reg_alpha=0,\n",
        " objective= 'binary:logistic',\n",
        " nthread=4,\n",
        " scale_pos_weight=1,\n",
        " seed=27)\n",
        "modelfit(xgb4)"
      ],
      "execution_count": 94,
      "outputs": [
        {
          "output_type": "stream",
          "text": [
            "There are 2000 trees in our model. CV-mean: 0.9271, CV-std: 0.0007.\n",
            "\n",
            "Model Report\n",
            "Accuracy : 0.9118\n",
            "F1 Score (Test): 0.233789\n",
            "AUC Score (Test): 0.765433\n"
          ],
          "name": "stdout"
        }
      ]
    },
    {
      "cell_type": "markdown",
      "metadata": {
        "id": "hAPc08wstnM_",
        "colab_type": "text"
      },
      "source": [
        "#### graph"
      ]
    },
    {
      "cell_type": "code",
      "metadata": {
        "id": "aMfmheiV3cRz",
        "colab_type": "code",
        "colab": {}
      },
      "source": [
        "predict_test_xg_prob = xgb4.predict_proba(X_test.values)\n"
      ],
      "execution_count": 0,
      "outputs": []
    },
    {
      "cell_type": "code",
      "metadata": {
        "id": "J8CoBsCutoig",
        "colab_type": "code",
        "outputId": "601b8467-02b6-449c-d859-c862b1212af5",
        "colab": {
          "base_uri": "https://localhost:8080/",
          "height": 295
        }
      },
      "source": [
        "fpr, tpr, _ = roc_curve(y_test, predict_test_xg_prob[:, 1])\n",
        "roc_auc = auc(fpr, tpr)\n",
        "plt.title('ROC Validation')\n",
        "plt.plot(fpr, tpr, 'b', label='AUC = %0.2f' % roc_auc)\n",
        "plt.legend(loc='lower right')\n",
        "plt.plot([0, 1], [0, 1], 'r--')\n",
        "plt.xlim([0, 1])\n",
        "plt.ylim([0, 1])\n",
        "plt.ylabel('True Positive Rate')\n",
        "plt.xlabel('False Positive Rate')\n",
        "plt.show()"
      ],
      "execution_count": 0,
      "outputs": [
        {
          "output_type": "display_data",
          "data": {
            "image/png": "[encoded data removed]",
            "text/plain": [
              "<Figure size 432x288 with 1 Axes>"
            ]
          },
          "metadata": {
            "tags": [],
            "needs_background": "light"
          }
        }
      ]
    },
    {
      "cell_type": "code",
      "metadata": {
        "id": "knfLLDDsukjR",
        "colab_type": "code",
        "outputId": "9a700488-ab28-4412-eb20-cb9de8b6d4d3",
        "colab": {
          "base_uri": "https://localhost:8080/",
          "height": 673
        }
      },
      "source": [
        "plt.hist(predict_test_xg_prob[:, 0], bins = 60)"
      ],
      "execution_count": 0,
      "outputs": [
        {
          "output_type": "execute_result",
          "data": {
            "text/plain": [
              "(array([1.000e+00, 1.000e+00, 2.000e+00, 5.000e+00, 7.000e+00, 8.000e+00,\n",
              "        6.000e+00, 1.600e+01, 1.300e+01, 1.800e+01, 2.100e+01, 3.300e+01,\n",
              "        3.900e+01, 3.000e+01, 5.500e+01, 5.700e+01, 6.700e+01, 8.000e+01,\n",
              "        1.020e+02, 9.700e+01, 1.130e+02, 1.170e+02, 1.430e+02, 1.660e+02,\n",
              "        1.750e+02, 1.700e+02, 2.430e+02, 2.280e+02, 2.430e+02, 2.680e+02,\n",
              "        2.880e+02, 3.290e+02, 3.770e+02, 3.980e+02, 4.500e+02, 4.800e+02,\n",
              "        5.560e+02, 5.810e+02, 6.790e+02, 6.910e+02, 7.940e+02, 8.060e+02,\n",
              "        9.230e+02, 1.053e+03, 1.084e+03, 1.255e+03, 1.392e+03, 1.567e+03,\n",
              "        1.728e+03, 1.901e+03, 2.149e+03, 2.411e+03, 2.799e+03, 3.136e+03,\n",
              "        3.479e+03, 3.784e+03, 3.938e+03, 3.885e+03, 2.763e+03, 6.950e+02]),\n",
              " array([0.1055302 , 0.12035343, 0.13517666, 0.14999989, 0.16482313,\n",
              "        0.17964636, 0.19446959, 0.20929281, 0.22411604, 0.23893927,\n",
              "        0.2537625 , 0.26858574, 0.28340897, 0.2982322 , 0.31305543,\n",
              "        0.32787865, 0.34270188, 0.3575251 , 0.37234834, 0.38717157,\n",
              "        0.4019948 , 0.41681802, 0.43164125, 0.4464645 , 0.46128774,\n",
              "        0.47611097, 0.4909342 , 0.5057574 , 0.52058065, 0.53540385,\n",
              "        0.5502271 , 0.56505036, 0.57987356, 0.5946968 , 0.60952   ,\n",
              "        0.6243433 , 0.6391665 , 0.65398973, 0.66881293, 0.6836362 ,\n",
              "        0.6984594 , 0.71328264, 0.72810584, 0.7429291 , 0.7577523 ,\n",
              "        0.77257556, 0.7873988 , 0.802222  , 0.8170453 , 0.83186847,\n",
              "        0.8466917 , 0.8615149 , 0.8763382 , 0.8911614 , 0.90598464,\n",
              "        0.92080784, 0.9356311 , 0.9504543 , 0.96527755, 0.98010075,\n",
              "        0.994924  ], dtype=float32),\n",
              " <a list of 60 Patch objects>)"
            ]
          },
          "metadata": {
            "tags": []
          },
          "execution_count": 47
        },
        {
          "output_type": "display_data",
          "data": {
            "image/png": "[encoded data removed]",
            "text/plain": [
              "<Figure size 432x288 with 1 Axes>"
            ]
          },
          "metadata": {
            "tags": [],
            "needs_background": "light"
          }
        }
      ]
    },
    {
      "cell_type": "code",
      "metadata": {
        "id": "-28ij22avQKH",
        "colab_type": "code",
        "colab": {}
      },
      "source": [
        "###\n",
        "models = {\"xgb\": xgb4,\n",
        "          \"rf\": random_forest,\n",
        "          \"lr\": lr_clf}\n",
        "\n",
        "for name, model in models.items():\n",
        "  model_probs = model.predict_proba(X_test.values)[:, 1:]\n",
        "  model_auc_score = roc_auc_score(y_test, model_probs)\n",
        "  fpr, tpr, _ = roc_curve(y_test, model_probs)\n",
        "  precision, recall, _ = precision_recall_curve(y_test, model_probs)\n",
        "  axes[0].plot(fpr, tpr, label=f\"{name}, auc = {model_auc_score:.3f}\")\n",
        "  axes[1].plot(recall, precision, label=f\"{name}\")\n"
      ],
      "execution_count": 0,
      "outputs": []
    },
    {
      "cell_type": "markdown",
      "metadata": {
        "id": "riCgtLVBuvd3",
        "colab_type": "text"
      },
      "source": [
        "### Cut off and f1 score"
      ]
    },
    {
      "cell_type": "code",
      "metadata": {
        "id": "PFht6ih0uynC",
        "colab_type": "code",
        "colab": {}
      },
      "source": [
        "from sklearn.metrics import precision_recall_curve\n",
        "presicion, recall, threshold = precision_recall_curve(y_test, predict_test_xg_prob[:, 1])"
      ],
      "execution_count": 0,
      "outputs": []
    },
    {
      "cell_type": "code",
      "metadata": {
        "id": "jferyADe5R5f",
        "colab_type": "code",
        "outputId": "c1d4b922-7e6e-4519-daa0-c8f25a458009",
        "colab": {
          "base_uri": "https://localhost:8080/",
          "height": 419
        }
      },
      "source": [
        "d = {'precision': presicion[0:-1], 'recall': recall[0:-1], 'threshold' : threshold}\n",
        "f1df = pd.DataFrame(data=d)\n",
        "f1df"
      ],
      "execution_count": 0,
      "outputs": [
        {
          "output_type": "execute_result",
          "data": {
            "text/html": [
              "<div>\n",
              "<style scoped>\n",
              "    .dataframe tbody tr th:only-of-type {\n",
              "        vertical-align: middle;\n",
              "    }\n",
              "\n",
              "    .dataframe tbody tr th {\n",
              "        vertical-align: top;\n",
              "    }\n",
              "\n",
              "    .dataframe thead th {\n",
              "        text-align: right;\n",
              "    }\n",
              "</style>\n",
              "<table border=\"1\" class=\"dataframe\">\n",
              "  <thead>\n",
              "    <tr style=\"text-align: right;\">\n",
              "      <th></th>\n",
              "      <th>precision</th>\n",
              "      <th>recall</th>\n",
              "      <th>threshold</th>\n",
              "    </tr>\n",
              "  </thead>\n",
              "  <tbody>\n",
              "    <tr>\n",
              "      <th>0</th>\n",
              "      <td>0.079785</td>\n",
              "      <td>1.000000</td>\n",
              "      <td>0.011061</td>\n",
              "    </tr>\n",
              "    <tr>\n",
              "      <th>1</th>\n",
              "      <td>0.079767</td>\n",
              "      <td>0.999743</td>\n",
              "      <td>0.011098</td>\n",
              "    </tr>\n",
              "    <tr>\n",
              "      <th>2</th>\n",
              "      <td>0.079768</td>\n",
              "      <td>0.999743</td>\n",
              "      <td>0.011112</td>\n",
              "    </tr>\n",
              "    <tr>\n",
              "      <th>3</th>\n",
              "      <td>0.079770</td>\n",
              "      <td>0.999743</td>\n",
              "      <td>0.011127</td>\n",
              "    </tr>\n",
              "    <tr>\n",
              "      <th>4</th>\n",
              "      <td>0.079771</td>\n",
              "      <td>0.999743</td>\n",
              "      <td>0.011152</td>\n",
              "    </tr>\n",
              "    <tr>\n",
              "      <th>...</th>\n",
              "      <td>...</td>\n",
              "      <td>...</td>\n",
              "      <td>...</td>\n",
              "    </tr>\n",
              "    <tr>\n",
              "      <th>48754</th>\n",
              "      <td>1.000000</td>\n",
              "      <td>0.001283</td>\n",
              "      <td>0.849189</td>\n",
              "    </tr>\n",
              "    <tr>\n",
              "      <th>48755</th>\n",
              "      <td>1.000000</td>\n",
              "      <td>0.001027</td>\n",
              "      <td>0.858475</td>\n",
              "    </tr>\n",
              "    <tr>\n",
              "      <th>48756</th>\n",
              "      <td>1.000000</td>\n",
              "      <td>0.000770</td>\n",
              "      <td>0.859527</td>\n",
              "    </tr>\n",
              "    <tr>\n",
              "      <th>48757</th>\n",
              "      <td>1.000000</td>\n",
              "      <td>0.000513</td>\n",
              "      <td>0.873891</td>\n",
              "    </tr>\n",
              "    <tr>\n",
              "      <th>48758</th>\n",
              "      <td>1.000000</td>\n",
              "      <td>0.000257</td>\n",
              "      <td>0.894470</td>\n",
              "    </tr>\n",
              "  </tbody>\n",
              "</table>\n",
              "<p>48759 rows × 3 columns</p>\n",
              "</div>"
            ],
            "text/plain": [
              "       precision    recall  threshold\n",
              "0       0.079785  1.000000   0.011061\n",
              "1       0.079767  0.999743   0.011098\n",
              "2       0.079768  0.999743   0.011112\n",
              "3       0.079770  0.999743   0.011127\n",
              "4       0.079771  0.999743   0.011152\n",
              "...          ...       ...        ...\n",
              "48754   1.000000  0.001283   0.849189\n",
              "48755   1.000000  0.001027   0.858475\n",
              "48756   1.000000  0.000770   0.859527\n",
              "48757   1.000000  0.000513   0.873891\n",
              "48758   1.000000  0.000257   0.894470\n",
              "\n",
              "[48759 rows x 3 columns]"
            ]
          },
          "metadata": {
            "tags": []
          },
          "execution_count": 60
        }
      ]
    },
    {
      "cell_type": "code",
      "metadata": {
        "id": "TikHzR6W6L7c",
        "colab_type": "code",
        "colab": {}
      },
      "source": [
        "f1df['f1score'] = 2*f1df['precision']*f1df['recall']/(f1df['recall']+f1df['precision'])"
      ],
      "execution_count": 0,
      "outputs": []
    },
    {
      "cell_type": "code",
      "metadata": {
        "id": "vXuHSwWc6M_8",
        "colab_type": "code",
        "outputId": "225d8c2b-d0fd-4bbb-e4bf-406057fe9e38",
        "colab": {
          "base_uri": "https://localhost:8080/",
          "height": 170
        }
      },
      "source": [
        "f1df['f1score'].describe()"
      ],
      "execution_count": 0,
      "outputs": [
        {
          "output_type": "execute_result",
          "data": {
            "text/plain": [
              "count    48759.000000\n",
              "mean         0.227151\n",
              "std          0.056279\n",
              "min          0.000513\n",
              "25%          0.179308\n",
              "50%          0.222073\n",
              "75%          0.277714\n",
              "max          0.316635\n",
              "Name: f1score, dtype: float64"
            ]
          },
          "metadata": {
            "tags": []
          },
          "execution_count": 145
        }
      ]
    },
    {
      "cell_type": "code",
      "metadata": {
        "id": "bfp1RotWCvJd",
        "colab_type": "code",
        "outputId": "cef8fd70-49e7-424a-d767-d77ee888476c",
        "colab": {
          "base_uri": "https://localhost:8080/",
          "height": 419
        }
      },
      "source": [
        "f1df.sort_values('f1score',ascending=False)"
      ],
      "execution_count": 0,
      "outputs": [
        {
          "output_type": "execute_result",
          "data": {
            "text/html": [
              "<div>\n",
              "<style scoped>\n",
              "    .dataframe tbody tr th:only-of-type {\n",
              "        vertical-align: middle;\n",
              "    }\n",
              "\n",
              "    .dataframe tbody tr th {\n",
              "        vertical-align: top;\n",
              "    }\n",
              "\n",
              "    .dataframe thead th {\n",
              "        text-align: right;\n",
              "    }\n",
              "</style>\n",
              "<table border=\"1\" class=\"dataframe\">\n",
              "  <thead>\n",
              "    <tr style=\"text-align: right;\">\n",
              "      <th></th>\n",
              "      <th>precision</th>\n",
              "      <th>recall</th>\n",
              "      <th>threshold</th>\n",
              "      <th>f1score</th>\n",
              "    </tr>\n",
              "  </thead>\n",
              "  <tbody>\n",
              "    <tr>\n",
              "      <th>43817</th>\n",
              "      <td>0.283000</td>\n",
              "      <td>0.359343</td>\n",
              "      <td>0.358436</td>\n",
              "      <td>0.316635</td>\n",
              "    </tr>\n",
              "    <tr>\n",
              "      <th>43816</th>\n",
              "      <td>0.282943</td>\n",
              "      <td>0.359343</td>\n",
              "      <td>0.358392</td>\n",
              "      <td>0.316599</td>\n",
              "    </tr>\n",
              "    <tr>\n",
              "      <th>43815</th>\n",
              "      <td>0.282885</td>\n",
              "      <td>0.359343</td>\n",
              "      <td>0.358369</td>\n",
              "      <td>0.316563</td>\n",
              "    </tr>\n",
              "    <tr>\n",
              "      <th>43814</th>\n",
              "      <td>0.282828</td>\n",
              "      <td>0.359343</td>\n",
              "      <td>0.358318</td>\n",
              "      <td>0.316527</td>\n",
              "    </tr>\n",
              "    <tr>\n",
              "      <th>43820</th>\n",
              "      <td>0.282969</td>\n",
              "      <td>0.359086</td>\n",
              "      <td>0.358589</td>\n",
              "      <td>0.316516</td>\n",
              "    </tr>\n",
              "    <tr>\n",
              "      <th>...</th>\n",
              "      <td>...</td>\n",
              "      <td>...</td>\n",
              "      <td>...</td>\n",
              "      <td>...</td>\n",
              "    </tr>\n",
              "    <tr>\n",
              "      <th>48754</th>\n",
              "      <td>1.000000</td>\n",
              "      <td>0.001283</td>\n",
              "      <td>0.849189</td>\n",
              "      <td>0.002563</td>\n",
              "    </tr>\n",
              "    <tr>\n",
              "      <th>48755</th>\n",
              "      <td>1.000000</td>\n",
              "      <td>0.001027</td>\n",
              "      <td>0.858475</td>\n",
              "      <td>0.002051</td>\n",
              "    </tr>\n",
              "    <tr>\n",
              "      <th>48756</th>\n",
              "      <td>1.000000</td>\n",
              "      <td>0.000770</td>\n",
              "      <td>0.859527</td>\n",
              "      <td>0.001539</td>\n",
              "    </tr>\n",
              "    <tr>\n",
              "      <th>48757</th>\n",
              "      <td>1.000000</td>\n",
              "      <td>0.000513</td>\n",
              "      <td>0.873891</td>\n",
              "      <td>0.001026</td>\n",
              "    </tr>\n",
              "    <tr>\n",
              "      <th>48758</th>\n",
              "      <td>1.000000</td>\n",
              "      <td>0.000257</td>\n",
              "      <td>0.894470</td>\n",
              "      <td>0.000513</td>\n",
              "    </tr>\n",
              "  </tbody>\n",
              "</table>\n",
              "<p>48759 rows × 4 columns</p>\n",
              "</div>"
            ],
            "text/plain": [
              "       precision    recall  threshold   f1score\n",
              "43817   0.283000  0.359343   0.358436  0.316635\n",
              "43816   0.282943  0.359343   0.358392  0.316599\n",
              "43815   0.282885  0.359343   0.358369  0.316563\n",
              "43814   0.282828  0.359343   0.358318  0.316527\n",
              "43820   0.282969  0.359086   0.358589  0.316516\n",
              "...          ...       ...        ...       ...\n",
              "48754   1.000000  0.001283   0.849189  0.002563\n",
              "48755   1.000000  0.001027   0.858475  0.002051\n",
              "48756   1.000000  0.000770   0.859527  0.001539\n",
              "48757   1.000000  0.000513   0.873891  0.001026\n",
              "48758   1.000000  0.000257   0.894470  0.000513\n",
              "\n",
              "[48759 rows x 4 columns]"
            ]
          },
          "metadata": {
            "tags": []
          },
          "execution_count": 130
        }
      ]
    },
    {
      "cell_type": "code",
      "metadata": {
        "id": "FST_k7_r7-eM",
        "colab_type": "code",
        "colab": {}
      },
      "source": [
        "df_prob = pd.DataFrame(predict_test_xg_prob[:,1])"
      ],
      "execution_count": 0,
      "outputs": []
    },
    {
      "cell_type": "code",
      "metadata": {
        "id": "NsL0lUor7UYk",
        "colab_type": "code",
        "outputId": "c491570a-fd5b-4d2a-a47e-90f636d9f412",
        "colab": {
          "base_uri": "https://localhost:8080/",
          "height": 51
        }
      },
      "source": [
        "y_predict_optimal = df_prob[0].apply(lambda x : 0 if  x < 0.358436  else 1)\n",
        "\n",
        "print(confusion_matrix(y_test, y_predict_optimal))"
      ],
      "execution_count": 0,
      "outputs": [
        {
          "output_type": "stream",
          "text": [
            "[[41452  3547]\n",
            " [ 2497  1399]]\n"
          ],
          "name": "stdout"
        }
      ]
    },
    {
      "cell_type": "code",
      "metadata": {
        "id": "7MM_py8w8nn4",
        "colab_type": "code",
        "colab": {}
      },
      "source": [
        "df_prob['credit_score'] = (1-df_prob[0])* 550 + 300"
      ],
      "execution_count": 0,
      "outputs": []
    },
    {
      "cell_type": "code",
      "metadata": {
        "id": "IYvcSE_88xA6",
        "colab_type": "code",
        "outputId": "60603e79-e9c0-490a-b3ea-0fb04af807d2",
        "colab": {
          "base_uri": "https://localhost:8080/",
          "height": 880
        }
      },
      "source": [
        "plt.hist(df_prob['credit_score'], bins = 100)"
      ],
      "execution_count": 0,
      "outputs": [
        {
          "output_type": "execute_result",
          "data": {
            "text/plain": [
              "(array([1.000e+00, 0.000e+00, 1.000e+00, 1.000e+00, 1.000e+00, 2.000e+00,\n",
              "        5.000e+00, 4.000e+00, 2.000e+00, 7.000e+00, 3.000e+00, 8.000e+00,\n",
              "        9.000e+00, 6.000e+00, 9.000e+00, 1.200e+01, 1.000e+01, 1.200e+01,\n",
              "        1.600e+01, 2.200e+01, 1.900e+01, 2.700e+01, 1.900e+01, 2.500e+01,\n",
              "        3.400e+01, 3.500e+01, 3.900e+01, 3.600e+01, 4.600e+01, 4.800e+01,\n",
              "        5.600e+01, 6.700e+01, 5.600e+01, 6.900e+01, 6.400e+01, 5.800e+01,\n",
              "        8.700e+01, 7.800e+01, 1.070e+02, 9.600e+01, 1.110e+02, 1.010e+02,\n",
              "        1.020e+02, 1.280e+02, 1.460e+02, 1.370e+02, 1.430e+02, 1.490e+02,\n",
              "        1.510e+02, 1.590e+02, 1.560e+02, 1.880e+02, 2.060e+02, 2.240e+02,\n",
              "        2.200e+02, 2.310e+02, 2.520e+02, 2.740e+02, 2.740e+02, 2.970e+02,\n",
              "        3.300e+02, 3.480e+02, 3.440e+02, 3.650e+02, 4.290e+02, 3.870e+02,\n",
              "        4.570e+02, 4.880e+02, 4.710e+02, 4.880e+02, 5.210e+02, 6.220e+02,\n",
              "        6.050e+02, 6.470e+02, 6.650e+02, 7.220e+02, 8.210e+02, 8.270e+02,\n",
              "        8.850e+02, 9.590e+02, 1.025e+03, 1.049e+03, 1.148e+03, 1.245e+03,\n",
              "        1.311e+03, 1.378e+03, 1.551e+03, 1.702e+03, 1.816e+03, 1.899e+03,\n",
              "        2.024e+03, 2.187e+03, 2.260e+03, 2.400e+03, 2.330e+03, 2.333e+03,\n",
              "        2.216e+03, 1.703e+03, 9.080e+02, 1.830e+02]),\n",
              " array([358.04163, 362.9333 , 367.82495, 372.7166 , 377.60828, 382.49994,\n",
              "        387.39163, 392.2833 , 397.17496, 402.06662, 406.95828, 411.84995,\n",
              "        416.7416 , 421.63327, 426.52493, 431.41663, 436.3083 , 441.19995,\n",
              "        446.0916 , 450.98328, 455.87494, 460.7666 , 465.65826, 470.54993,\n",
              "        475.4416 , 480.33325, 485.22495, 490.1166 , 495.00827, 499.89993,\n",
              "        504.7916 , 509.68326, 514.57495, 519.4666 , 524.3583 , 529.24994,\n",
              "        534.1416 , 539.03326, 543.9249 , 548.8166 , 553.70825, 558.5999 ,\n",
              "        563.4916 , 568.38324, 573.2749 , 578.16656, 583.0582 , 587.9499 ,\n",
              "        592.84155, 597.7332 , 602.6249 , 607.5166 , 612.40826, 617.2999 ,\n",
              "        622.1916 , 627.08325, 631.9749 , 636.8666 , 641.75824, 646.6499 ,\n",
              "        651.54156, 656.4332 , 661.3249 , 666.21655, 671.1082 , 675.9999 ,\n",
              "        680.89154, 685.7832 , 690.67487, 695.5665 , 700.45825, 705.3499 ,\n",
              "        710.2416 , 715.13324, 720.0249 , 724.91656, 729.8082 , 734.6999 ,\n",
              "        739.59155, 744.4832 , 749.3749 , 754.26654, 759.1582 , 764.04987,\n",
              "        768.9415 , 773.8332 , 778.72485, 783.6165 , 788.5082 , 793.39984,\n",
              "        798.2915 , 803.1832 , 808.0749 , 812.96655, 817.8582 , 822.7499 ,\n",
              "        827.64154, 832.5332 , 837.42487, 842.3165 , 847.2082 ],\n",
              "       dtype=float32),\n",
              " <a list of 100 Patch objects>)"
            ]
          },
          "metadata": {
            "tags": []
          },
          "execution_count": 133
        },
        {
          "output_type": "display_data",
          "data": {
            "image/png": "[encoded data removed]",
            "text/plain": [
              "<Figure size 432x288 with 1 Axes>"
            ]
          },
          "metadata": {
            "tags": [],
            "needs_background": "light"
          }
        }
      ]
    },
    {
      "cell_type": "code",
      "metadata": {
        "id": "ofjHUtY1OOjx",
        "colab_type": "code",
        "outputId": "ba0c8501-cfb2-4a1e-d755-e8b796580369",
        "colab": {
          "base_uri": "https://localhost:8080/",
          "height": 170
        }
      },
      "source": [
        "f1df['f1score'].describe()"
      ],
      "execution_count": 0,
      "outputs": [
        {
          "output_type": "execute_result",
          "data": {
            "text/plain": [
              "count    48759.000000\n",
              "mean         0.227151\n",
              "std          0.056279\n",
              "min          0.000513\n",
              "25%          0.179308\n",
              "50%          0.222073\n",
              "75%          0.277714\n",
              "max          0.316635\n",
              "Name: f1score, dtype: float64"
            ]
          },
          "metadata": {
            "tags": []
          },
          "execution_count": 147
        }
      ]
    },
    {
      "cell_type": "code",
      "metadata": {
        "id": "BvKK6F3-OL5Y",
        "colab_type": "code",
        "outputId": "03a0f748-e3f9-4747-bbd4-2b1f0b7d325d",
        "colab": {
          "base_uri": "https://localhost:8080/",
          "height": 419
        }
      },
      "source": [
        "f1df.loc[f1df['f1score']>=0.277714]"
      ],
      "execution_count": 0,
      "outputs": [
        {
          "output_type": "execute_result",
          "data": {
            "text/html": [
              "<div>\n",
              "<style scoped>\n",
              "    .dataframe tbody tr th:only-of-type {\n",
              "        vertical-align: middle;\n",
              "    }\n",
              "\n",
              "    .dataframe tbody tr th {\n",
              "        vertical-align: top;\n",
              "    }\n",
              "\n",
              "    .dataframe thead th {\n",
              "        text-align: right;\n",
              "    }\n",
              "</style>\n",
              "<table border=\"1\" class=\"dataframe\">\n",
              "  <thead>\n",
              "    <tr style=\"text-align: right;\">\n",
              "      <th></th>\n",
              "      <th>precision</th>\n",
              "      <th>recall</th>\n",
              "      <th>threshold</th>\n",
              "      <th>f1score</th>\n",
              "    </tr>\n",
              "  </thead>\n",
              "  <tbody>\n",
              "    <tr>\n",
              "      <th>43817</th>\n",
              "      <td>0.283000</td>\n",
              "      <td>0.359343</td>\n",
              "      <td>0.358436</td>\n",
              "      <td>0.316635</td>\n",
              "    </tr>\n",
              "    <tr>\n",
              "      <th>43816</th>\n",
              "      <td>0.282943</td>\n",
              "      <td>0.359343</td>\n",
              "      <td>0.358392</td>\n",
              "      <td>0.316599</td>\n",
              "    </tr>\n",
              "    <tr>\n",
              "      <th>43815</th>\n",
              "      <td>0.282885</td>\n",
              "      <td>0.359343</td>\n",
              "      <td>0.358369</td>\n",
              "      <td>0.316563</td>\n",
              "    </tr>\n",
              "    <tr>\n",
              "      <th>43814</th>\n",
              "      <td>0.282828</td>\n",
              "      <td>0.359343</td>\n",
              "      <td>0.358318</td>\n",
              "      <td>0.316527</td>\n",
              "    </tr>\n",
              "    <tr>\n",
              "      <th>43820</th>\n",
              "      <td>0.282969</td>\n",
              "      <td>0.359086</td>\n",
              "      <td>0.358589</td>\n",
              "      <td>0.316516</td>\n",
              "    </tr>\n",
              "    <tr>\n",
              "      <th>...</th>\n",
              "      <td>...</td>\n",
              "      <td>...</td>\n",
              "      <td>...</td>\n",
              "      <td>...</td>\n",
              "    </tr>\n",
              "    <tr>\n",
              "      <th>34022</th>\n",
              "      <td>0.175522</td>\n",
              "      <td>0.664784</td>\n",
              "      <td>0.196916</td>\n",
              "      <td>0.277718</td>\n",
              "    </tr>\n",
              "    <tr>\n",
              "      <th>34058</th>\n",
              "      <td>0.175611</td>\n",
              "      <td>0.663501</td>\n",
              "      <td>0.197183</td>\n",
              "      <td>0.277718</td>\n",
              "    </tr>\n",
              "    <tr>\n",
              "      <th>34166</th>\n",
              "      <td>0.175883</td>\n",
              "      <td>0.659651</td>\n",
              "      <td>0.198419</td>\n",
              "      <td>0.277718</td>\n",
              "    </tr>\n",
              "    <tr>\n",
              "      <th>46226</th>\n",
              "      <td>0.352268</td>\n",
              "      <td>0.229209</td>\n",
              "      <td>0.448997</td>\n",
              "      <td>0.277717</td>\n",
              "    </tr>\n",
              "    <tr>\n",
              "      <th>34029</th>\n",
              "      <td>0.175537</td>\n",
              "      <td>0.664528</td>\n",
              "      <td>0.197009</td>\n",
              "      <td>0.277715</td>\n",
              "    </tr>\n",
              "  </tbody>\n",
              "</table>\n",
              "<p>12190 rows × 4 columns</p>\n",
              "</div>"
            ],
            "text/plain": [
              "       precision    recall  threshold   f1score\n",
              "43817   0.283000  0.359343   0.358436  0.316635\n",
              "43816   0.282943  0.359343   0.358392  0.316599\n",
              "43815   0.282885  0.359343   0.358369  0.316563\n",
              "43814   0.282828  0.359343   0.358318  0.316527\n",
              "43820   0.282969  0.359086   0.358589  0.316516\n",
              "...          ...       ...        ...       ...\n",
              "34022   0.175522  0.664784   0.196916  0.277718\n",
              "34058   0.175611  0.663501   0.197183  0.277718\n",
              "34166   0.175883  0.659651   0.198419  0.277718\n",
              "46226   0.352268  0.229209   0.448997  0.277717\n",
              "34029   0.175537  0.664528   0.197009  0.277715\n",
              "\n",
              "[12190 rows x 4 columns]"
            ]
          },
          "metadata": {
            "tags": []
          },
          "execution_count": 146
        }
      ]
    },
    {
      "cell_type": "code",
      "metadata": {
        "id": "bfyYMpChDS8i",
        "colab_type": "code",
        "outputId": "7b9f2649-4ae9-46b9-eb67-ff9556f04de9",
        "colab": {
          "base_uri": "https://localhost:8080/",
          "height": 34
        }
      },
      "source": [
        "# 50% percentile\n",
        "(1-0.358436)*550+300"
      ],
      "execution_count": 0,
      "outputs": [
        {
          "output_type": "execute_result",
          "data": {
            "text/plain": [
              "652.8602000000001"
            ]
          },
          "metadata": {
            "tags": []
          },
          "execution_count": 134
        }
      ]
    },
    {
      "cell_type": "code",
      "metadata": {
        "id": "OiR5Qck0OZJL",
        "colab_type": "code",
        "colab": {}
      },
      "source": [
        "f1df['credit_score'] = f1df['threshold']*550+300"
      ],
      "execution_count": 0,
      "outputs": []
    }
  ]
}